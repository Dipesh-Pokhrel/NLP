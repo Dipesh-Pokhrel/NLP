{
  "nbformat": 4,
  "nbformat_minor": 0,
  "metadata": {
    "colab": {
      "name": "rnn_final.ipynb",
      "provenance": []
    },
    "kernelspec": {
      "name": "python3",
      "display_name": "Python 3"
    },
    "language_info": {
      "name": "python"
    }
  },
  "cells": [
    {
      "cell_type": "markdown",
      "source": [
        "#### Read In Cleaned Text:"
      ],
      "metadata": {
        "id": "AHT2WcqbOCfM"
      }
    },
    {
      "cell_type": "code",
      "execution_count": 1,
      "metadata": {
        "id": "dTFilbrRN7nK"
      },
      "outputs": [],
      "source": [
        "from keras.preprocessing.text import Tokenizer\n",
        "from keras.preprocessing.sequence import pad_sequences\n",
        "import pandas as pd\n",
        "\n",
        "X_train = pd.read_csv('X_train.csv')\n",
        "X_test = pd.read_csv('X_test.csv')\n",
        "y_test = pd.read_csv('y_test.csv')\n",
        "y_train = pd.read_csv('y_train.csv')"
      ]
    },
    {
      "cell_type": "markdown",
      "source": [
        "#### Prepare data:\n",
        "Train the tokenizer and use that tokenizer to convert the sentences to sequences of numbers.\n",
        "\n"
      ],
      "metadata": {
        "id": "rkjjobXvOie1"
      }
    },
    {
      "cell_type": "code",
      "source": [
        "tokenizer = Tokenizer()\n",
        "tokenizer.fit_on_texts(X_train['clean_text'])\n",
        "X_train_seq = tokenizer.texts_to_sequences(X_train['clean_text'])\n",
        "X_test_seq = tokenizer.texts_to_sequences(X_test['clean_text'])"
      ],
      "metadata": {
        "id": "ynn03-siOkiA"
      },
      "execution_count": 2,
      "outputs": []
    },
    {
      "cell_type": "markdown",
      "source": [
        "Pad the sequences so each sequence is the same length."
      ],
      "metadata": {
        "id": "1p8idq8PPa4O"
      }
    },
    {
      "cell_type": "code",
      "source": [
        "X_train_seq_padded = pad_sequences(X_train_seq, 50)\n",
        "X_test_seq_padded = pad_sequences(X_test_seq, 50)"
      ],
      "metadata": {
        "id": "ZBv6jNP4PZsU"
      },
      "execution_count": 4,
      "outputs": []
    },
    {
      "cell_type": "markdown",
      "source": [
        "#### Build RNN Model:"
      ],
      "metadata": {
        "id": "iSHdSnPtP0FT"
      }
    },
    {
      "cell_type": "markdown",
      "source": [
        "Import the tools needed and use to calculate precision and recall."
      ],
      "metadata": {
        "id": "laR6L6vnQIqh"
      }
    },
    {
      "cell_type": "code",
      "source": [
        "import keras.backend as K \n",
        "from keras.layers import Dense, Embedding, LSTM\n",
        "\n",
        "import keras.backend as K\n",
        "from keras.layers import Dense, Embedding, LSTM\n",
        "from keras.models import Sequential\n",
        "\n",
        "def recall_m(y_true, y_pred):\n",
        "  true_positives = K.sum(K.round(K.clip(y_true * y_pred, 0, 1)))\n",
        "  possible_positives = K.sum(K.round(K.clip(y_true, 0,1)))\n",
        "  recall = true_positives / (possible_positives + K.epsilon())\n",
        "  return recall\n",
        "\n",
        "def precision_m(y_true, y_pred):\n",
        "  true_positives = K.sum(K.round(K.clip(y_true * y_pred, 0, 1)))\n",
        "  predicted_positives = K.sum(K.round(K.clip(y_pred, 0, 1)))\n",
        "  precision = true_positives / (predicted_positives + K.epsilon())\n",
        "  return precision"
      ],
      "metadata": {
        "id": "0s8GW1-FPna4"
      },
      "execution_count": 5,
      "outputs": []
    },
    {
      "cell_type": "markdown",
      "source": [
        "Construct the RNN model framework."
      ],
      "metadata": {
        "id": "U7vOfjTFQRcH"
      }
    },
    {
      "cell_type": "code",
      "source": [
        "model = Sequential()\n",
        "\n",
        "model.add(Embedding(len(tokenizer.index_word)+1, 32))\n",
        "model.add(LSTM(32, dropout=0, recurrent_dropout=0))\n",
        "model.add(Dense(32, activation='relu'))\n",
        "model.add(Dense(1, activation='sigmoid'))\n",
        "model.summary()"
      ],
      "metadata": {
        "colab": {
          "base_uri": "https://localhost:8080/"
        },
        "id": "OXyieufcQQA5",
        "outputId": "f0e78d21-4730-41a0-9742-8b7d42a29c59"
      },
      "execution_count": 6,
      "outputs": [
        {
          "output_type": "stream",
          "name": "stdout",
          "text": [
            "Model: \"sequential\"\n",
            "_________________________________________________________________\n",
            " Layer (type)                Output Shape              Param #   \n",
            "=================================================================\n",
            " embedding (Embedding)       (None, None, 32)          266240    \n",
            "                                                                 \n",
            " lstm (LSTM)                 (None, 32)                8320      \n",
            "                                                                 \n",
            " dense (Dense)               (None, 32)                1056      \n",
            "                                                                 \n",
            " dense_1 (Dense)             (None, 1)                 33        \n",
            "                                                                 \n",
            "=================================================================\n",
            "Total params: 275,649\n",
            "Trainable params: 275,649\n",
            "Non-trainable params: 0\n",
            "_________________________________________________________________\n"
          ]
        }
      ]
    },
    {
      "cell_type": "markdown",
      "source": [
        "Compile the model"
      ],
      "metadata": {
        "id": "FGvE9z2BQ_uK"
      }
    },
    {
      "cell_type": "code",
      "source": [
        "model.compile(optimizer='adam',\n",
        "              loss = 'binary_crossentropy',\n",
        "              metrics=['accuracy', precision_m, recall_m])"
      ],
      "metadata": {
        "id": "8gVB7UySQz7T"
      },
      "execution_count": 7,
      "outputs": []
    },
    {
      "cell_type": "markdown",
      "source": [
        "Fit the model"
      ],
      "metadata": {
        "id": "og5VU1gjRKGL"
      }
    },
    {
      "cell_type": "code",
      "source": [
        "history = model.fit(X_train_seq_padded, y_train['label'],\n",
        "                    batch_size=32, epochs=10,\n",
        "                    validation_data=(X_test_seq_padded, y_test))"
      ],
      "metadata": {
        "colab": {
          "base_uri": "https://localhost:8080/"
        },
        "id": "kzcZw0WqRIu_",
        "outputId": "624cdb89-bd18-4e29-e6a6-5ba82dcddd4b"
      },
      "execution_count": 8,
      "outputs": [
        {
          "output_type": "stream",
          "name": "stdout",
          "text": [
            "Epoch 1/10\n",
            "140/140 [==============================] - 13s 58ms/step - loss: 0.2561 - accuracy: 0.9204 - precision_m: 0.5124 - recall_m: 0.4186 - val_loss: 0.1001 - val_accuracy: 0.9704 - val_precision_m: 0.9714 - val_recall_m: 0.7765\n",
            "Epoch 2/10\n",
            "140/140 [==============================] - 6s 44ms/step - loss: 0.0377 - accuracy: 0.9906 - precision_m: 0.9703 - recall_m: 0.9468 - val_loss: 0.0569 - val_accuracy: 0.9874 - val_precision_m: 0.9905 - val_recall_m: 0.9225\n",
            "Epoch 3/10\n",
            "140/140 [==============================] - 6s 44ms/step - loss: 0.0100 - accuracy: 0.9975 - precision_m: 0.9902 - recall_m: 0.9775 - val_loss: 0.0763 - val_accuracy: 0.9865 - val_precision_m: 1.0000 - val_recall_m: 0.9097\n",
            "Epoch 4/10\n",
            "140/140 [==============================] - 6s 41ms/step - loss: 0.0036 - accuracy: 0.9996 - precision_m: 1.0000 - recall_m: 0.9952 - val_loss: 0.0739 - val_accuracy: 0.9892 - val_precision_m: 1.0000 - val_recall_m: 0.9261\n",
            "Epoch 5/10\n",
            "140/140 [==============================] - 6s 41ms/step - loss: 0.0022 - accuracy: 0.9996 - precision_m: 1.0000 - recall_m: 0.9980 - val_loss: 0.0643 - val_accuracy: 0.9892 - val_precision_m: 1.0000 - val_recall_m: 0.9261\n",
            "Epoch 6/10\n",
            "140/140 [==============================] - 6s 44ms/step - loss: 7.6900e-04 - accuracy: 0.9998 - precision_m: 0.9571 - recall_m: 0.9565 - val_loss: 0.0850 - val_accuracy: 0.9892 - val_precision_m: 1.0000 - val_recall_m: 0.9261\n",
            "Epoch 7/10\n",
            "140/140 [==============================] - 6s 45ms/step - loss: 2.7868e-04 - accuracy: 1.0000 - precision_m: 0.9857 - recall_m: 0.9857 - val_loss: 0.0803 - val_accuracy: 0.9892 - val_precision_m: 1.0000 - val_recall_m: 0.9261\n",
            "Epoch 8/10\n",
            "140/140 [==============================] - 6s 40ms/step - loss: 1.7905e-04 - accuracy: 1.0000 - precision_m: 0.9714 - recall_m: 0.9714 - val_loss: 0.0869 - val_accuracy: 0.9892 - val_precision_m: 1.0000 - val_recall_m: 0.9261\n",
            "Epoch 9/10\n",
            "140/140 [==============================] - 6s 43ms/step - loss: 1.1008e-04 - accuracy: 1.0000 - precision_m: 0.9929 - recall_m: 0.9929 - val_loss: 0.0910 - val_accuracy: 0.9892 - val_precision_m: 1.0000 - val_recall_m: 0.9261\n",
            "Epoch 10/10\n",
            "140/140 [==============================] - 6s 43ms/step - loss: 7.6031e-05 - accuracy: 1.0000 - precision_m: 0.9786 - recall_m: 0.9786 - val_loss: 0.0947 - val_accuracy: 0.9892 - val_precision_m: 1.0000 - val_recall_m: 0.9261\n"
          ]
        }
      ]
    },
    {
      "cell_type": "markdown",
      "source": [
        "Plot the evaluation metrics by each epoch fot the model to see if we are over or underfitting."
      ],
      "metadata": {
        "id": "mXzLXso4R4_y"
      }
    },
    {
      "cell_type": "code",
      "source": [
        "import matplotlib.pyplot as plt\n",
        "\n",
        "for i in ['accuracy', 'precision_m', 'recall_m']:\n",
        "  acc = history.history[i]\n",
        "  val_acc = history.history['val_{}'.format(i)]\n",
        "  epochs = range(1, len(acc) + 1)\n",
        "\n",
        "  plt.figure()\n",
        "  plt.plot(epochs, acc, label='Training Accuracy')\n",
        "  plt.plot(epochs, val_acc, label='Validation Accuracy')\n",
        "  plt.title('Result for {}'.format(i))\n",
        "  plt.legend()\n",
        "  plt.show()"
      ],
      "metadata": {
        "colab": {
          "base_uri": "https://localhost:8080/",
          "height": 809
        },
        "id": "tlBjlDW6Rir9",
        "outputId": "151551f3-8902-4d0e-803e-9420dbb5bc96"
      },
      "execution_count": 9,
      "outputs": [
        {
          "output_type": "display_data",
          "data": {
            "text/plain": [
              "<Figure size 432x288 with 1 Axes>"
            ],
            "image/png": "[encoded data removed]"
          },
          "metadata": {
            "needs_background": "light"
          }
        },
        {
          "output_type": "display_data",
          "data": {
            "text/plain": [
              "<Figure size 432x288 with 1 Axes>"
            ],
            "image/png": "[encoded data removed]"
          },
          "metadata": {
            "needs_background": "light"
          }
        },
        {
          "output_type": "display_data",
          "data": {
            "text/plain": [
              "<Figure size 432x288 with 1 Axes>"
            ],
            "image/png": "[encoded data removed]"
          },
          "metadata": {
            "needs_background": "light"
          }
        }
      ]
    }
  ]
}