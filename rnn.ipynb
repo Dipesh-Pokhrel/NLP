{
  "nbformat": 4,
  "nbformat_minor": 0,
  "metadata": {
    "colab": {
      "name": "rnn.ipynb",
      "provenance": []
    },
    "kernelspec": {
      "name": "python3",
      "display_name": "Python 3"
    },
    "language_info": {
      "name": "python"
    }
  },
  "cells": [
    {
      "cell_type": "markdown",
      "source": [
        "#### Read, Clean, And Split Data"
      ],
      "metadata": {
        "id": "G2ElzdXCc-PJ"
      }
    },
    {
      "cell_type": "code",
      "execution_count": 21,
      "metadata": {
        "id": "szooMHHxc2Yr"
      },
      "outputs": [],
      "source": [
        "import gensim\n",
        "import numpy as np\n",
        "import pandas as pd\n",
        "from sklearn.model_selection import train_test_split\n",
        "pd.set_option('display.max_colwidth', 100)\n",
        "\n",
        "messages = pd.read_csv('spam.csv', encoding='latin-1')\n",
        "messages = messages.drop(labels=[\"Unnamed: 2\", \"Unnamed: 3\", \"Unnamed: 4\"], axis=1)\n",
        "messages.columns = ['label', 'text']\n",
        "labels = np.where(messages['label']=='spam', 1, 0)\n",
        "\n",
        "X_train, X_test, y_train, y_test = train_test_split(messages['text'],\n",
        "                                                    labels,\n",
        "                                                    test_size=0.2)"
      ]
    },
    {
      "cell_type": "markdown",
      "source": [
        "Prepare Data For Modeling"
      ],
      "metadata": {
        "id": "JVq3JltddhMf"
      }
    },
    {
      "cell_type": "code",
      "source": [
        "from keras.preprocessing.text import Tokenizer\n",
        "from keras.preprocessing.sequence import pad_sequences"
      ],
      "metadata": {
        "id": "xNE69w51dTDV"
      },
      "execution_count": 22,
      "outputs": []
    },
    {
      "cell_type": "markdown",
      "source": [
        "Initialize and filt the tokenizer"
      ],
      "metadata": {
        "id": "a0cvAjUEeiWv"
      }
    },
    {
      "cell_type": "code",
      "source": [
        "tokenizer = Tokenizer()\n",
        "tokenizer.fit_on_texts(X_train)"
      ],
      "metadata": {
        "id": "D-TKrxwgeB9v"
      },
      "execution_count": 23,
      "outputs": []
    },
    {
      "cell_type": "markdown",
      "source": [
        "Use that tokenizer to transform the text messages in the training and test sets"
      ],
      "metadata": {
        "id": "yx2oZYzoe9jQ"
      }
    },
    {
      "cell_type": "code",
      "source": [
        "X_train_seq = tokenizer.texts_to_sequences(X_train)\n",
        "X_test_seq = tokenizer.texts_to_sequences(X_test)"
      ],
      "metadata": {
        "id": "ajqgNbide2ZX"
      },
      "execution_count": 24,
      "outputs": []
    },
    {
      "cell_type": "markdown",
      "source": [
        "First item of train set"
      ],
      "metadata": {
        "id": "W2ss8Kolfo24"
      }
    },
    {
      "cell_type": "code",
      "source": [
        "X_train_seq[0]"
      ],
      "metadata": {
        "colab": {
          "base_uri": "https://localhost:8080/"
        },
        "id": "5CZ-_qFafvIu",
        "outputId": "ba42f65d-4bd6-4209-ceb2-c6632d87faa7"
      },
      "execution_count": 25,
      "outputs": [
        {
          "output_type": "execute_result",
          "data": {
            "text/plain": [
              "[1,\n",
              " 34,\n",
              " 2579,\n",
              " 1,\n",
              " 67,\n",
              " 2,\n",
              " 48,\n",
              " 2,\n",
              " 3773,\n",
              " 2013,\n",
              " 149,\n",
              " 19,\n",
              " 1,\n",
              " 604,\n",
              " 2579,\n",
              " 42,\n",
              " 49,\n",
              " 1,\n",
              " 55,\n",
              " 52,\n",
              " 98,\n",
              " 117,\n",
              " 49,\n",
              " 2,\n",
              " 28,\n",
              " 82,\n",
              " 389,\n",
              " 150,\n",
              " 118,\n",
              " 61]"
            ]
          },
          "metadata": {},
          "execution_count": 25
        }
      ]
    },
    {
      "cell_type": "markdown",
      "source": [
        "Pad the sequences so each sequence is the same length"
      ],
      "metadata": {
        "id": "tYb2SvwSgU2R"
      }
    },
    {
      "cell_type": "code",
      "source": [
        "X_train_seq_padded = pad_sequences(X_train_seq, 50)\n",
        "X_test_seq_padded = pad_sequences(X_test_seq, 50)"
      ],
      "metadata": {
        "id": "ryqN__V-fyWA"
      },
      "execution_count": 26,
      "outputs": []
    },
    {
      "cell_type": "code",
      "source": [
        "X_train_seq_padded[0]"
      ],
      "metadata": {
        "colab": {
          "base_uri": "https://localhost:8080/"
        },
        "id": "DpbjYkmdgrqH",
        "outputId": "9d68dfa8-3131-4bd2-d714-1426647538b3"
      },
      "execution_count": 27,
      "outputs": [
        {
          "output_type": "execute_result",
          "data": {
            "text/plain": [
              "array([   0,    0,    0,    0,    0,    0,    0,    0,    0,    0,    0,\n",
              "          0,    0,    0,    0,    0,    0,    0,    0,    0,    1,   34,\n",
              "       2579,    1,   67,    2,   48,    2, 3773, 2013,  149,   19,    1,\n",
              "        604, 2579,   42,   49,    1,   55,   52,   98,  117,   49,    2,\n",
              "         28,   82,  389,  150,  118,   61], dtype=int32)"
            ]
          },
          "metadata": {},
          "execution_count": 27
        }
      ]
    },
    {
      "cell_type": "markdown",
      "source": [
        "#### Build Model\n",
        "\n",
        "Import the tools needed from keras and define functions to calculate recall and precision."
      ],
      "metadata": {
        "id": "_VEEbqW9hAvQ"
      }
    },
    {
      "cell_type": "code",
      "source": [
        "import keras.backend as K\n",
        "from keras.layers import Dense, Embedding, LSTM\n",
        "from keras.models import Sequential\n",
        "\n",
        "def recall_m(y_true, y_pred):\n",
        "  true_positives = K.sum(K.round(K.clip(y_true * y_pred, 0, 1)))\n",
        "  possible_positives = K.sum(K.round(K.clip(y_true, 0,1)))\n",
        "  recall = true_positives / (possible_positives + K.epsilon())\n",
        "  return recall\n",
        "\n",
        "def precision_m(y_true, y_pred):\n",
        "  true_positives = K.sum(K.round(K.clip(y_true * y_pred, 0, 1)))\n",
        "  predicted_positives = K.sum(K.round(K.clip(y_pred, 0, 1)))\n",
        "  precision = true_positives / (predicted_positives + K.epsilon())\n",
        "  return precision"
      ],
      "metadata": {
        "id": "4Y_G96WQg1dA"
      },
      "execution_count": 28,
      "outputs": []
    },
    {
      "cell_type": "markdown",
      "source": [
        "Construct a simple RNN model"
      ],
      "metadata": {
        "id": "dN6ph_Mhi8Mp"
      }
    },
    {
      "cell_type": "code",
      "source": [
        "model = Sequential()\n",
        "\n",
        "model.add(Embedding(len(tokenizer.index_word)+1, 32))\n",
        "model.add(LSTM(32, dropout=0, recurrent_dropout=0))\n",
        "model.add(Dense(1, activation='relu'))\n",
        "model.add(Dense(1, activation='sigmoid'))\n",
        "model.summary()"
      ],
      "metadata": {
        "colab": {
          "base_uri": "https://localhost:8080/"
        },
        "id": "oyQpOR-UiygJ",
        "outputId": "008d0a71-1d06-4799-9dab-8415750d5c0e"
      },
      "execution_count": 29,
      "outputs": [
        {
          "output_type": "stream",
          "name": "stdout",
          "text": [
            "Model: \"sequential_2\"\n",
            "_________________________________________________________________\n",
            " Layer (type)                Output Shape              Param #   \n",
            "=================================================================\n",
            " embedding_1 (Embedding)     (None, None, 32)          252608    \n",
            "                                                                 \n",
            " lstm_1 (LSTM)               (None, 32)                8320      \n",
            "                                                                 \n",
            " dense_2 (Dense)             (None, 1)                 33        \n",
            "                                                                 \n",
            " dense_3 (Dense)             (None, 1)                 2         \n",
            "                                                                 \n",
            "=================================================================\n",
            "Total params: 260,963\n",
            "Trainable params: 260,963\n",
            "Non-trainable params: 0\n",
            "_________________________________________________________________\n"
          ]
        }
      ]
    },
    {
      "cell_type": "markdown",
      "source": [
        "Compile the model:"
      ],
      "metadata": {
        "id": "MPGnK0RIlSwK"
      }
    },
    {
      "cell_type": "code",
      "source": [
        "model.compile(optimizer='adam',\n",
        "              loss = 'binary_crossentropy',\n",
        "              metrics=['accuracy', precision_m, recall_m])"
      ],
      "metadata": {
        "id": "dJJBrebgjCmX"
      },
      "execution_count": 30,
      "outputs": []
    },
    {
      "cell_type": "markdown",
      "source": [
        "Fit the RNN Model"
      ],
      "metadata": {
        "id": "MLrR0ERElk5M"
      }
    },
    {
      "cell_type": "code",
      "source": [
        "history = model.fit(X_train_seq_padded, y_train,\n",
        "                    batch_size=32, epochs=10,\n",
        "                    validation_data=(X_test_seq_padded, y_test))"
      ],
      "metadata": {
        "colab": {
          "base_uri": "https://localhost:8080/"
        },
        "id": "yFHZ3C9nlhuc",
        "outputId": "d8f1d7bc-041a-4048-b3ca-5e9c43ae5231"
      },
      "execution_count": 31,
      "outputs": [
        {
          "output_type": "stream",
          "name": "stdout",
          "text": [
            "Epoch 1/10\n",
            "140/140 [==============================] - 13s 55ms/step - loss: 0.3669 - accuracy: 0.8685 - precision_m: 0.0000e+00 - recall_m: 0.0000e+00 - val_loss: 0.1738 - val_accuracy: 0.8556 - val_precision_m: 0.0000e+00 - val_recall_m: 0.0000e+00\n",
            "Epoch 2/10\n",
            "140/140 [==============================] - 6s 45ms/step - loss: 0.1295 - accuracy: 0.9179 - precision_m: 0.4135 - recall_m: 0.3701 - val_loss: 0.1304 - val_accuracy: 0.9839 - val_precision_m: 1.0000 - val_recall_m: 0.9016\n",
            "Epoch 3/10\n",
            "140/140 [==============================] - 6s 45ms/step - loss: 0.1033 - accuracy: 0.9910 - precision_m: 0.9837 - recall_m: 0.9259 - val_loss: 0.1299 - val_accuracy: 0.9785 - val_precision_m: 1.0000 - val_recall_m: 0.8609\n",
            "Epoch 4/10\n",
            "140/140 [==============================] - 6s 46ms/step - loss: 0.0883 - accuracy: 0.9957 - precision_m: 0.9826 - recall_m: 0.9612 - val_loss: 0.1376 - val_accuracy: 0.9821 - val_precision_m: 1.0000 - val_recall_m: 0.8840\n",
            "Epoch 5/10\n",
            "140/140 [==============================] - 8s 56ms/step - loss: 0.0809 - accuracy: 0.9982 - precision_m: 0.9618 - recall_m: 0.9526 - val_loss: 0.1252 - val_accuracy: 0.9848 - val_precision_m: 0.9929 - val_recall_m: 0.9100\n",
            "Epoch 6/10\n",
            "140/140 [==============================] - 7s 50ms/step - loss: 0.0735 - accuracy: 0.9987 - precision_m: 0.9904 - recall_m: 0.9845 - val_loss: 0.1128 - val_accuracy: 0.9821 - val_precision_m: 0.9864 - val_recall_m: 0.9078\n",
            "Epoch 7/10\n",
            "140/140 [==============================] - 7s 49ms/step - loss: 0.0671 - accuracy: 0.9989 - precision_m: 0.9899 - recall_m: 0.9879 - val_loss: 0.1090 - val_accuracy: 0.9821 - val_precision_m: 0.9821 - val_recall_m: 0.9124\n",
            "Epoch 8/10\n",
            "140/140 [==============================] - 7s 51ms/step - loss: 0.0629 - accuracy: 0.9987 - precision_m: 0.9690 - recall_m: 0.9648 - val_loss: 0.1266 - val_accuracy: 0.9812 - val_precision_m: 0.9929 - val_recall_m: 0.8888\n",
            "Epoch 9/10\n",
            "140/140 [==============================] - 7s 50ms/step - loss: 0.0569 - accuracy: 0.9991 - precision_m: 0.9905 - recall_m: 0.9902 - val_loss: 0.1171 - val_accuracy: 0.9839 - val_precision_m: 0.9929 - val_recall_m: 0.9043\n",
            "Epoch 10/10\n",
            "140/140 [==============================] - 5s 34ms/step - loss: 0.0526 - accuracy: 0.9996 - precision_m: 0.9911 - recall_m: 0.9929 - val_loss: 0.1197 - val_accuracy: 0.9839 - val_precision_m: 0.9929 - val_recall_m: 0.9043\n"
          ]
        }
      ]
    },
    {
      "cell_type": "markdown",
      "source": [
        "Plot the evaluation metrics by each epoch fot the model to see if we are over or underfitting."
      ],
      "metadata": {
        "id": "k6S8vI7Om1NN"
      }
    },
    {
      "cell_type": "code",
      "source": [
        "import matplotlib.pyplot as plt\n",
        "\n",
        "for i in ['accuracy', 'precision_m', 'recall_m']:\n",
        "  acc = history.history[i]\n",
        "  val_acc = history.history['val_{}'.format(i)]\n",
        "  epochs = range(1, len(acc) + 1)\n",
        "\n",
        "  plt.figure()\n",
        "  plt.plot(epochs, acc, label='Training Accuracy')\n",
        "  plt.plot(epochs, val_acc, label='Validation Accuracy')\n",
        "  plt.title('Result for {}'.format(i))\n",
        "  plt.legend()\n",
        "  plt.show()"
      ],
      "metadata": {
        "colab": {
          "base_uri": "https://localhost:8080/",
          "height": 809
        },
        "id": "PjwIuZNrmIjA",
        "outputId": "5d198113-20f4-4d73-eed4-d2d173031218"
      },
      "execution_count": 32,
      "outputs": [
        {
          "output_type": "display_data",
          "data": {
            "text/plain": [
              "<Figure size 432x288 with 1 Axes>"
            ],
            "image/png": "[encoded data removed]"
          },
          "metadata": {
            "needs_background": "light"
          }
        },
        {
          "output_type": "display_data",
          "data": {
            "text/plain": [
              "<Figure size 432x288 with 1 Axes>"
            ],
            "image/png": "[encoded data removed]"
          },
          "metadata": {
            "needs_background": "light"
          }
        },
        {
          "output_type": "display_data",
          "data": {
            "text/plain": [
              "<Figure size 432x288 with 1 Axes>"
            ],
            "image/png": "[encoded data removed]"
          },
          "metadata": {
            "needs_background": "light"
          }
        }
      ]
    }
  ]
}