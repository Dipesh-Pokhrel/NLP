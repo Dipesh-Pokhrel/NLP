{
  "nbformat": 4,
  "nbformat_minor": 0,
  "metadata": {
    "colab": {
      "name": "d2v_rf.ipynb",
      "provenance": [],
      "collapsed_sections": []
    },
    "kernelspec": {
      "name": "python3",
      "display_name": "Python 3"
    },
    "language_info": {
      "name": "python"
    }
  },
  "cells": [
    {
      "cell_type": "markdown",
      "source": [
        "#### Read In Cleaned Text"
      ],
      "metadata": {
        "id": "23Ot2OBPD95-"
      }
    },
    {
      "cell_type": "code",
      "execution_count": 1,
      "metadata": {
        "id": "JXGGjjdqD4nV"
      },
      "outputs": [],
      "source": [
        "import gensim\n",
        "import numpy as np\n",
        "import pandas as pd\n",
        "\n",
        "X_train = pd.read_csv('X_train.csv')\n",
        "X_test = pd.read_csv('X_test.csv')\n",
        "y_test = pd.read_csv('y_test.csv')\n",
        "y_train = pd.read_csv('y_train.csv')"
      ]
    },
    {
      "cell_type": "markdown",
      "source": [
        "#### Create Doc2Vec Vector:\n"
      ],
      "metadata": {
        "id": "EY3vTRDvEEDt"
      }
    },
    {
      "cell_type": "markdown",
      "source": [
        "Create TaggedDocument vectors for each text message."
      ],
      "metadata": {
        "id": "5UqI8g5uEPz1"
      }
    },
    {
      "cell_type": "code",
      "source": [
        "tagged_docs_train = [gensim.models.doc2vec.TaggedDocument(v, [i])\n",
        "                      for i, v in enumerate(X_train['clean_text'])]\n",
        "\n",
        "tagged_docs_test = [gensim.models.doc2vec.TaggedDocument(v, [i])\n",
        "                    for i, v in enumerate(X_test['clean_text'])]"
      ],
      "metadata": {
        "id": "fY3a84vEEAqE"
      },
      "execution_count": 2,
      "outputs": []
    },
    {
      "cell_type": "code",
      "source": [
        "tagged_docs_train[:10]"
      ],
      "metadata": {
        "colab": {
          "base_uri": "https://localhost:8080/"
        },
        "id": "sQZbtZHRE9ct",
        "outputId": "2ef5cc08-c02a-4050-dbc5-cea65ba24de3"
      },
      "execution_count": 3,
      "outputs": [
        {
          "output_type": "execute_result",
          "data": {
            "text/plain": [
              "[TaggedDocument(words=\"['heehee', 'funny', 'tho']\", tags=[0]),\n",
              " TaggedDocument(words=\"['alrite', 'jod', 'hows', 'revision', 'goin', 'keris', 'bin', 'doin', 'smidgin', 'n', 'e', 'way', 'u', 'wanna', 'cum', 'collegexx']\", tags=[1]),\n",
              " TaggedDocument(words=\"['saw', 'messageit', 'k', 'da']\", tags=[2]),\n",
              " TaggedDocument(words=\"['hey', 'sexy', 'buns', 'told', 'adore', 'loverboy', 'hope', 'remember', 'thank', 'sister', 'law', 'meatballs', 'grins', 'love', 'babe']\", tags=[3]),\n",
              " TaggedDocument(words=\"['please', 'charge', 'mobile', 'get', 'morning']\", tags=[4]),\n",
              " TaggedDocument(words=\"['dude', 'avatar', '3d', 'imp', 'one', 'point', 'thought', 'actually', 'flies', 'room', 'almost', 'tried', 'hittng', 'one', 'reflex']\", tags=[5]),\n",
              " TaggedDocument(words=\"['yay', 'cant', 'wait', 'party', 'together']\", tags=[6]),\n",
              " TaggedDocument(words=\"['oops', 'shower', 'u', 'called', 'hey', 'parking', 'garage', 'collapsed', 'university', 'hospital', 'see', 'im', 'crazy', 'stuff', 'like', 'happen']\", tags=[7]),\n",
              " TaggedDocument(words=\"['also', 'knows', 'lunch', 'menu', 'da', 'know']\", tags=[8]),\n",
              " TaggedDocument(words=\"['lol', 'forgot', 'eh', 'yes', 'ill', 'bring', 'babe']\", tags=[9])]"
            ]
          },
          "metadata": {},
          "execution_count": 3
        }
      ]
    },
    {
      "cell_type": "markdown",
      "source": [
        "#### Train Doc2Vec Model:"
      ],
      "metadata": {
        "id": "0Ii-f4SRLJ55"
      }
    },
    {
      "cell_type": "code",
      "source": [
        "d2v_model = gensim.models.Doc2Vec(tagged_docs_train, \n",
        "                                  vector_size=100,\n",
        "                                  window=5,\n",
        "                                  min_count=2)"
      ],
      "metadata": {
        "colab": {
          "base_uri": "https://localhost:8080/"
        },
        "id": "pN37uIDcLOR3",
        "outputId": "9a6314a2-9a3c-4595-c95b-96a445d2ea8b"
      },
      "execution_count": 4,
      "outputs": [
        {
          "output_type": "stream",
          "name": "stderr",
          "text": [
            "WARNING:gensim.models.doc2vec:Each 'words' should be a list of words (usually unicode strings). First 'words' here is instead plain <class 'str'>.\n"
          ]
        }
      ]
    },
    {
      "cell_type": "markdown",
      "source": [
        "Infer the vectors to be used in training and testing."
      ],
      "metadata": {
        "id": "7gNRH1hDL2zQ"
      }
    },
    {
      "cell_type": "code",
      "source": [
        "train_vectors = [d2v_model.infer_vector(eval(v.words)) for v in tagged_docs_train]\n",
        "test_vectors = [d2v_model.infer_vector(eval(v.words)) for v in tagged_docs_test]"
      ],
      "metadata": {
        "id": "vT-FWemDLfSY"
      },
      "execution_count": 5,
      "outputs": []
    },
    {
      "cell_type": "markdown",
      "source": [
        "#### Fit Random Forest Classifier:"
      ],
      "metadata": {
        "id": "9ytaq3UzMof4"
      }
    },
    {
      "cell_type": "code",
      "source": [
        "from sklearn.ensemble import RandomForestClassifier\n",
        "from sklearn.metrics import precision_score, recall_score\n",
        "\n",
        "rf = RandomForestClassifier()\n",
        "rf_model = rf.fit(train_vectors, y_train.values.ravel())\n",
        "y_pred = rf_model.predict(test_vectors)\n",
        "\n",
        "precision = precision_score(y_test, y_pred)\n",
        "recall = recall_score(y_test, y_pred)\n",
        "\n",
        "print('Precision: {} / Recall: {} /Accuracy: {}'.format(\n",
        "    round(precision, 3), round(recall, 3), round((y_pred == y_test['label']).sum()/len(y_pred),3)\n",
        "))"
      ],
      "metadata": {
        "colab": {
          "base_uri": "https://localhost:8080/"
        },
        "id": "0gBK8IQJMd7P",
        "outputId": "3b9e10ca-fbf5-44de-8a8c-58771525529e"
      },
      "execution_count": 6,
      "outputs": [
        {
          "output_type": "stream",
          "name": "stdout",
          "text": [
            "Precision: 0.918 / Recall: 0.361 /Accuracy: 0.907\n"
          ]
        }
      ]
    }
  ]
}