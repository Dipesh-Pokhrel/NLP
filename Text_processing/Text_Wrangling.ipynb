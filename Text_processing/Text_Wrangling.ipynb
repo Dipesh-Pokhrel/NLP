{
  "nbformat": 4,
  "nbformat_minor": 0,
  "metadata": {
    "colab": {
      "name": "Text_Wrangling.ipynb",
      "provenance": []
    },
    "kernelspec": {
      "name": "python3",
      "display_name": "Python 3"
    },
    "language_info": {
      "name": "python"
    }
  },
  "cells": [
    {
      "cell_type": "markdown",
      "source": [
        "#### Install Dependencies"
      ],
      "metadata": {
        "id": "g5eol4FbKbZH"
      }
    },
    {
      "cell_type": "code",
      "execution_count": null,
      "metadata": {
        "colab": {
          "base_uri": "https://localhost:8080/"
        },
        "id": "BS-7agAg9wmz",
        "outputId": "a9b392a2-98b9-4ef7-bf02-2468d5a1fe27"
      },
      "outputs": [
        {
          "output_type": "stream",
          "name": "stderr",
          "text": [
            "[nltk_data] Downloading package omw-1.4 to /root/nltk_data...\n",
            "[nltk_data]   Package omw-1.4 is already up-to-date!\n",
            "[nltk_data] Downloading package punkt to /root/nltk_data...\n",
            "[nltk_data]   Package punkt is already up-to-date!\n",
            "[nltk_data] Downloading package wordnet to /root/nltk_data...\n",
            "[nltk_data]   Package wordnet is already up-to-date!\n",
            "[nltk_data] Downloading package stopwords to /root/nltk_data...\n",
            "[nltk_data]   Package stopwords is already up-to-date!\n",
            "[nltk_data] Downloading package averaged_perceptron_tagger to\n",
            "[nltk_data]     /root/nltk_data...\n",
            "[nltk_data]   Package averaged_perceptron_tagger is already up-to-\n",
            "[nltk_data]       date!\n"
          ]
        },
        {
          "output_type": "execute_result",
          "data": {
            "text/plain": [
              "True"
            ]
          },
          "metadata": {},
          "execution_count": 57
        }
      ],
      "source": [
        "import nltk\n",
        "nltk.download('omw-1.4')\n",
        "nltk.download('punkt')\n",
        "nltk.download('wordnet')\n",
        "nltk.download('stopwords')\n",
        "nltk.download('averaged_perceptron_tagger')"
      ]
    },
    {
      "cell_type": "markdown",
      "source": [
        "#### Case Conversion:"
      ],
      "metadata": {
        "id": "smVuD6wfK97w"
      }
    },
    {
      "cell_type": "code",
      "source": [
        "text = \"The quick brown fox jumped over the Big Dog\"\n",
        "text"
      ],
      "metadata": {
        "colab": {
          "base_uri": "https://localhost:8080/",
          "height": 35
        },
        "id": "p0ar-Ji1KzhX",
        "outputId": "c4f47ec0-7ac9-4ea2-922e-5a28201f95b1"
      },
      "execution_count": null,
      "outputs": [
        {
          "output_type": "execute_result",
          "data": {
            "text/plain": [
              "'The quick brown fox jumped over the Big Dog'"
            ],
            "application/vnd.google.colaboratory.intrinsic+json": {
              "type": "string"
            }
          },
          "metadata": {},
          "execution_count": 58
        }
      ]
    },
    {
      "cell_type": "markdown",
      "source": [
        "Convert the text to lower case."
      ],
      "metadata": {
        "id": "5p6XoJgULRMs"
      }
    },
    {
      "cell_type": "code",
      "source": [
        "text.lower()"
      ],
      "metadata": {
        "colab": {
          "base_uri": "https://localhost:8080/",
          "height": 35
        },
        "id": "2Ex-KOcOLJkr",
        "outputId": "578f91b9-3b1d-417e-86a3-d50bace0e006"
      },
      "execution_count": null,
      "outputs": [
        {
          "output_type": "execute_result",
          "data": {
            "text/plain": [
              "'the quick brown fox jumped over the big dog'"
            ],
            "application/vnd.google.colaboratory.intrinsic+json": {
              "type": "string"
            }
          },
          "metadata": {},
          "execution_count": 59
        }
      ]
    },
    {
      "cell_type": "markdown",
      "source": [
        "Similarly for upper case:"
      ],
      "metadata": {
        "id": "pL_acr2RLaPe"
      }
    },
    {
      "cell_type": "code",
      "source": [
        "text.upper()"
      ],
      "metadata": {
        "colab": {
          "base_uri": "https://localhost:8080/",
          "height": 35
        },
        "id": "eZ0IfW1qLWGj",
        "outputId": "abe544fa-23da-4480-af18-435c03e13db9"
      },
      "execution_count": null,
      "outputs": [
        {
          "output_type": "execute_result",
          "data": {
            "text/plain": [
              "'THE QUICK BROWN FOX JUMPED OVER THE BIG DOG'"
            ],
            "application/vnd.google.colaboratory.intrinsic+json": {
              "type": "string"
            }
          },
          "metadata": {},
          "execution_count": 60
        }
      ]
    },
    {
      "cell_type": "markdown",
      "source": [
        "In title case, it capatializes every first letter in each words."
      ],
      "metadata": {
        "id": "9angXmyPLhXH"
      }
    },
    {
      "cell_type": "code",
      "source": [
        "text.title()"
      ],
      "metadata": {
        "colab": {
          "base_uri": "https://localhost:8080/",
          "height": 35
        },
        "id": "TeAm6mfWLd9c",
        "outputId": "d9712346-ec7c-4a96-f059-22940162655c"
      },
      "execution_count": null,
      "outputs": [
        {
          "output_type": "execute_result",
          "data": {
            "text/plain": [
              "'The Quick Brown Fox Jumped Over The Big Dog'"
            ],
            "application/vnd.google.colaboratory.intrinsic+json": {
              "type": "string"
            }
          },
          "metadata": {},
          "execution_count": 61
        }
      ]
    },
    {
      "cell_type": "markdown",
      "source": [
        "### Tokenization"
      ],
      "metadata": {
        "id": "llxJRzxHLu3R"
      }
    },
    {
      "cell_type": "code",
      "source": [
        "text = (\"US unveils world's most powerful supercomputer, beats China. \" \n",
        "        \"The US has unveiled the world's most powerful supercomputer called 'Summit', \" \n",
        "        \"beating the previous record-holder China's Sunway TaihuLight. With a peak performance \"\n",
        "        \"of 200,000 trillion calculations per second, it is over twice as fast as Sunway TaihuLight, \"\n",
        "        \"which is capable of 93,000 trillion calculations per second. Summit has 4,608 servers, \"\n",
        "        \"which reportedly take up the size of two tennis courts.\")\n",
        "text"
      ],
      "metadata": {
        "colab": {
          "base_uri": "https://localhost:8080/",
          "height": 70
        },
        "id": "owX0UmAwLrYF",
        "outputId": "fff661f0-3108-4ab8-9c48-57fe7a23d4a4"
      },
      "execution_count": null,
      "outputs": [
        {
          "output_type": "execute_result",
          "data": {
            "text/plain": [
              "\"US unveils world's most powerful supercomputer, beats China. The US has unveiled the world's most powerful supercomputer called 'Summit', beating the previous record-holder China's Sunway TaihuLight. With a peak performance of 200,000 trillion calculations per second, it is over twice as fast as Sunway TaihuLight, which is capable of 93,000 trillion calculations per second. Summit has 4,608 servers, which reportedly take up the size of two tennis courts.\""
            ],
            "application/vnd.google.colaboratory.intrinsic+json": {
              "type": "string"
            }
          },
          "metadata": {},
          "execution_count": 62
        }
      ]
    },
    {
      "cell_type": "markdown",
      "source": [
        "Using nltk sentences toknizer to tokenize and get each of the sentence separately. If you run tokenizer in a sentence you will get a list with multiple sentences."
      ],
      "metadata": {
        "id": "2XHtdjVAMu5u"
      }
    },
    {
      "cell_type": "code",
      "source": [
        "import nltk\n",
        "nltk.sent_tokenize(text)"
      ],
      "metadata": {
        "colab": {
          "base_uri": "https://localhost:8080/"
        },
        "id": "V7U5YVBkL84M",
        "outputId": "382d0638-a751-495c-b6d4-f2c57dbeb936"
      },
      "execution_count": null,
      "outputs": [
        {
          "output_type": "execute_result",
          "data": {
            "text/plain": [
              "[\"US unveils world's most powerful supercomputer, beats China.\",\n",
              " \"The US has unveiled the world's most powerful supercomputer called 'Summit', beating the previous record-holder China's Sunway TaihuLight.\",\n",
              " 'With a peak performance of 200,000 trillion calculations per second, it is over twice as fast as Sunway TaihuLight, which is capable of 93,000 trillion calculations per second.',\n",
              " 'Summit has 4,608 servers, which reportedly take up the size of two tennis courts.']"
            ]
          },
          "metadata": {},
          "execution_count": 63
        }
      ]
    },
    {
      "cell_type": "markdown",
      "source": [
        "If you want to tokenize based on each and every word, you can use nltk word tokenizer."
      ],
      "metadata": {
        "id": "IcqYre2gNKCq"
      }
    },
    {
      "cell_type": "code",
      "source": [
        "print(nltk.word_tokenize(text))"
      ],
      "metadata": {
        "colab": {
          "base_uri": "https://localhost:8080/"
        },
        "id": "w1BMNEoeMmLU",
        "outputId": "ac086a02-0ab4-4264-bcac-411d38e59cc7"
      },
      "execution_count": null,
      "outputs": [
        {
          "output_type": "stream",
          "name": "stdout",
          "text": [
            "['US', 'unveils', 'world', \"'s\", 'most', 'powerful', 'supercomputer', ',', 'beats', 'China', '.', 'The', 'US', 'has', 'unveiled', 'the', 'world', \"'s\", 'most', 'powerful', 'supercomputer', 'called', \"'Summit\", \"'\", ',', 'beating', 'the', 'previous', 'record-holder', 'China', \"'s\", 'Sunway', 'TaihuLight', '.', 'With', 'a', 'peak', 'performance', 'of', '200,000', 'trillion', 'calculations', 'per', 'second', ',', 'it', 'is', 'over', 'twice', 'as', 'fast', 'as', 'Sunway', 'TaihuLight', ',', 'which', 'is', 'capable', 'of', '93,000', 'trillion', 'calculations', 'per', 'second', '.', 'Summit', 'has', '4,608', 'servers', ',', 'which', 'reportedly', 'take', 'up', 'the', 'size', 'of', 'two', 'tennis', 'courts', '.']\n"
          ]
        }
      ]
    },
    {
      "cell_type": "markdown",
      "source": [
        "Similarly, if you are interested in using spacy."
      ],
      "metadata": {
        "id": "knrUUOnwNg04"
      }
    },
    {
      "cell_type": "code",
      "source": [
        "import spacy\n",
        "from spacy.cli.download import download\n",
        "download(model=\"en_core_web_sm\")"
      ],
      "metadata": {
        "colab": {
          "base_uri": "https://localhost:8080/"
        },
        "id": "t-cDeoRKNu_o",
        "outputId": "d47c8c57-8404-464c-c5a3-1240178455bb"
      },
      "execution_count": null,
      "outputs": [
        {
          "output_type": "stream",
          "name": "stdout",
          "text": [
            "\u001b[38;5;2m✔ Download and installation successful\u001b[0m\n",
            "You can now load the package via spacy.load('en_core_web_sm')\n"
          ]
        }
      ]
    },
    {
      "cell_type": "code",
      "source": [
        "nlp = spacy.load('en_core_web_sm')\n",
        "\n",
        "text_spacy = nlp(text)"
      ],
      "metadata": {
        "id": "2G2_1m-YNa72"
      },
      "execution_count": null,
      "outputs": []
    },
    {
      "cell_type": "code",
      "source": [
        "[obj.text for obj in text_spacy.sents]"
      ],
      "metadata": {
        "colab": {
          "base_uri": "https://localhost:8080/"
        },
        "id": "al4Q8eirOArh",
        "outputId": "151959ca-8d8b-4aeb-ff25-9905146472a2"
      },
      "execution_count": null,
      "outputs": [
        {
          "output_type": "execute_result",
          "data": {
            "text/plain": [
              "[\"US unveils world's most powerful supercomputer, beats China.\",\n",
              " \"The US has unveiled the world's most powerful supercomputer called 'Summit', beating the previous record-holder China's Sunway TaihuLight.\",\n",
              " 'With a peak performance of 200,000 trillion calculations per second, it is over twice as fast as Sunway TaihuLight, which is capable of 93,000 trillion calculations per second.',\n",
              " 'Summit has 4,608 servers, which reportedly take up the size of two tennis courts.']"
            ]
          },
          "metadata": {},
          "execution_count": 67
        }
      ]
    },
    {
      "cell_type": "code",
      "source": [
        "print([obj.text for obj in text_spacy])"
      ],
      "metadata": {
        "colab": {
          "base_uri": "https://localhost:8080/"
        },
        "id": "SmwnjD5ZPPAa",
        "outputId": "2b9d39e5-859b-4011-846a-a4d7618d6b9a"
      },
      "execution_count": null,
      "outputs": [
        {
          "output_type": "stream",
          "name": "stdout",
          "text": [
            "['US', 'unveils', 'world', \"'s\", 'most', 'powerful', 'supercomputer', ',', 'beats', 'China', '.', 'The', 'US', 'has', 'unveiled', 'the', 'world', \"'s\", 'most', 'powerful', 'supercomputer', 'called', \"'\", 'Summit', \"'\", ',', 'beating', 'the', 'previous', 'record', '-', 'holder', 'China', \"'s\", 'Sunway', 'TaihuLight', '.', 'With', 'a', 'peak', 'performance', 'of', '200,000', 'trillion', 'calculations', 'per', 'second', ',', 'it', 'is', 'over', 'twice', 'as', 'fast', 'as', 'Sunway', 'TaihuLight', ',', 'which', 'is', 'capable', 'of', '93,000', 'trillion', 'calculations', 'per', 'second', '.', 'Summit', 'has', '4,608', 'servers', ',', 'which', 'reportedly', 'take', 'up', 'the', 'size', 'of', 'two', 'tennis', 'courts', '.']\n"
          ]
        }
      ]
    },
    {
      "cell_type": "markdown",
      "source": [
        "#### Removing HTML  tags and Noise:"
      ],
      "metadata": {
        "id": "Z-cqdXVgPnyf"
      }
    },
    {
      "cell_type": "code",
      "source": [
        "import requests\n",
        "\n",
        "data = requests.get('http://www.gutenberg.org/cache/epub/8001/pg8001.html')\n",
        "content = data.text\n",
        "print(content[10000:20000])"
      ],
      "metadata": {
        "colab": {
          "base_uri": "https://localhost:8080/"
        },
        "id": "nMVC3tckPgTN",
        "outputId": "5a44b48c-6727-4d38-b20c-9028587251cd"
      },
      "execution_count": null,
      "outputs": [
        {
          "output_type": "stream",
          "name": "stdout",
          "text": [
            "aters bring forth abundantly the moving\r\n",
            "           creature that hath life, and fowl that may fly above the earth\r\n",
            "           in the open firmament of heaven.</p>\r\n",
            "\r\n",
            "<p id=\"id00034\" style=\"margin-left: 0%; margin-right: 0%\">01:001:021 And God created great whales, and every living creature that\r\n",
            "           moveth, which the waters brought forth abundantly, after their\r\n",
            "           kind, and every winged fowl after his kind: and God saw that\r\n",
            "           it was good.</p>\r\n",
            "\r\n",
            "<p id=\"id00035\" style=\"margin-left: 0%; margin-right: 0%\">01:001:022 And God blessed them, saying, Be fruitful, and multiply, and\r\n",
            "           fill the waters in the seas, and let fowl multiply in the\r\n",
            "           earth.</p>\r\n",
            "\r\n",
            "<p id=\"id00036\">01:001:023 And the evening and the morning were the fifth day.</p>\r\n",
            "\r\n",
            "<p id=\"id00037\">01:001:024 And God said, Let the earth bring forth the living creature<br>\r\n",
            "\r\n",
            "           after his kind, cattle, and creeping thing, and beast of the<br>\r\n",
            "\r\n",
            "           earth after his kind: and it was so.<br>\r\n",
            "</p>\r\n",
            "\r\n",
            "<p id=\"id00038\">01:001:025 And God made the beast of the earth after his kind, and cattle<br>\r\n",
            "\r\n",
            "           after their kind, and every thing that creepeth upon the earth<br>\r\n",
            "\r\n",
            "           after his kind: and God saw that it was good.<br>\r\n",
            "</p>\r\n",
            "\r\n",
            "<p id=\"id00039\" style=\"margin-left: 0%; margin-right: 0%\">01:001:026 And God said, Let us make man in our image, after our\r\n",
            "           likeness: and let them have dominion over the fish of the sea,\r\n",
            "           and over the fowl of the air, and over the cattle, and over\r\n",
            "           all the earth, and over every creeping thing that creepeth\r\n",
            "           upon the earth.</p>\r\n",
            "\r\n",
            "<p id=\"id00040\" style=\"margin-left: 0%; margin-right: 0%\">01:001:027 So God created man in his own image, in the image of God\r\n",
            "           created he him; male and female created he them.</p>\r\n",
            "\r\n",
            "<p id=\"id00041\">01:001:028 And God blessed them, and God said unto them, Be fruitful, and<br>\r\n",
            "\r\n",
            "           multiply, and replenish the earth, and subdue it: and have<br>\r\n",
            "\r\n",
            "           dominion over the fish of the sea, and over the fowl of the<br>\r\n",
            "\r\n",
            "           air, and over every living thing that moveth upon the earth.<br>\r\n",
            "</p>\r\n",
            "\r\n",
            "<p id=\"id00042\">01:001:029 And God said, Behold, I have given you every herb bearing<br>\r\n",
            "\r\n",
            "           seed, which is upon the face of all the earth, and every tree,<br>\r\n",
            "\r\n",
            "           in the which is the fruit of a tree yielding seed; to you it<br>\r\n",
            "\r\n",
            "           shall be for meat.<br>\r\n",
            "</p>\r\n",
            "\r\n",
            "<p id=\"id00043\">01:001:030 And to every beast of the earth, and to every fowl of the air,<br>\r\n",
            "\r\n",
            "           and to every thing that creepeth upon the earth, wherein there<br>\r\n",
            "\r\n",
            "           is life, I have given every green herb for meat: and it was<br>\r\n",
            "\r\n",
            "           so.<br>\r\n",
            "</p>\r\n",
            "\r\n",
            "<p id=\"id00044\">01:001:031 And God saw every thing that he had made, and, behold, it was<br>\r\n",
            "\r\n",
            "           very good. And the evening and the morning were the sixth day.<br>\r\n",
            "</p>\r\n",
            "\r\n",
            "<p id=\"id00045\">01:002:001 Thus the heavens and the earth were finished, and all the host<br>\r\n",
            "\r\n",
            "           of them.<br>\r\n",
            "</p>\r\n",
            "\r\n",
            "<p id=\"id00046\">01:002:002 And on the seventh day God ended his work which he had made;<br>\r\n",
            "\r\n",
            "           and he rested on the seventh day from all his work which he<br>\r\n",
            "\r\n",
            "           had made.<br>\r\n",
            "</p>\r\n",
            "\r\n",
            "<p id=\"id00047\">01:002:003 And God blessed the seventh day, and sanctified it: because<br>\r\n",
            "\r\n",
            "           that in it he had rested from all his work which God created<br>\r\n",
            "\r\n",
            "           and made.<br>\r\n",
            "</p>\r\n",
            "\r\n",
            "<p id=\"id00048\">01:002:004 These are the generations of the heavens and of the earth when<br>\r\n",
            "\r\n",
            "           they were created, in the day that the LORD God made the earth<br>\r\n",
            "\r\n",
            "           and the heavens,<br>\r\n",
            "</p>\r\n",
            "\r\n",
            "<p id=\"id00049\" style=\"margin-left: 0%; margin-right: 0%\">01:002:005 And every plant of the field before it was in the earth, and\r\n",
            "           every herb of the field before it grew: for the LORD God had\r\n",
            "           not caused it to rain upon the earth, and there was not a man\r\n",
            "           to till the ground.</p>\r\n",
            "\r\n",
            "<p id=\"id00050\" style=\"margin-left: 0%; margin-right: 0%\">01:002:006 But there went up a mist from the earth, and watered the whole\r\n",
            "           face of the ground.</p>\r\n",
            "\r\n",
            "<p id=\"id00051\" style=\"margin-left: 0%; margin-right: 0%\">01:002:007 And the LORD God formed man of the dust of the ground, and\r\n",
            "           breathed into his nostrils the breath of life; and man became\r\n",
            "           a living soul.</p>\r\n",
            "\r\n",
            "<p id=\"id00052\" style=\"margin-left: 0%; margin-right: 0%\">01:002:008 And the LORD God planted a garden eastward in Eden; and there\r\n",
            "           he put the man whom he had formed.</p>\r\n",
            "\r\n",
            "<p id=\"id00053\" style=\"margin-left: 0%; margin-right: 0%\">01:002:009 And out of the ground made the LORD God to grow every tree\r\n",
            "           that is pleasant to the sight, and good for food; the tree of\r\n",
            "           life also in the midst of the garden, and the tree of\r\n",
            "           knowledge of good and evil.</p>\r\n",
            "\r\n",
            "<p id=\"id00054\">01:002:010 And a river went out of Eden to water the garden; and from<br>\r\n",
            "\r\n",
            "           thence it was parted, and became into four heads.<br>\r\n",
            "</p>\r\n",
            "\r\n",
            "<p id=\"id00055\">01:002:011 The name of the first is Pison: that is it which compasseth<br>\r\n",
            "\r\n",
            "           the whole land of Havilah, where there is gold;<br>\r\n",
            "</p>\r\n",
            "\r\n",
            "<p id=\"id00056\">01:002:012 And the gold of that land is good: there is bdellium and the<br>\r\n",
            "\r\n",
            "           onyx stone.<br>\r\n",
            "</p>\r\n",
            "\r\n",
            "<p id=\"id00057\">01:002:013 And the name of the second river is Gihon: the same is it that<br>\r\n",
            "\r\n",
            "           compasseth the whole land of Ethiopia.<br>\r\n",
            "</p>\r\n",
            "\r\n",
            "<p id=\"id00058\">01:002:014 And the name of the third river is Hiddekel: that is it which<br>\r\n",
            "\r\n",
            "           goeth toward the east of Assyria. And the fourth river is<br>\r\n",
            "\r\n",
            "           Euphrates.<br>\r\n",
            "</p>\r\n",
            "\r\n",
            "<p id=\"id00059\">01:002:015 And the LORD God took the man, and put him into the garden of<br>\r\n",
            "\r\n",
            "           Eden to dress it and to keep it.<br>\r\n",
            "</p>\r\n",
            "\r\n",
            "<p id=\"id00060\">01:002:016 And the LORD God commanded the man, saying, Of every tree of<br>\r\n",
            "\r\n",
            "           the garden thou mayest freely eat:<br>\r\n",
            "</p>\r\n",
            "\r\n",
            "<p id=\"id00061\" style=\"margin-left: 0%; margin-right: 0%\">01:002:017 But of the tree of the knowledge of good and evil, thou shalt\r\n",
            "           not eat of it: for in the day that thou eatest thereof thou\r\n",
            "           shalt surely die.</p>\r\n",
            "\r\n",
            "<p id=\"id00062\" style=\"margin-left: 0%; margin-right: 0%\">01:002:018 And the LORD God said, It is not good that the man should be\r\n",
            "           alone; I will make him an help meet for him.</p>\r\n",
            "\r\n",
            "<p id=\"id00063\" style=\"margin-left: 0%; margin-right: 0%\">01:002:019 And out of the ground the LORD God formed every beast of the\r\n",
            "           field, and every fowl of the air; and brought them unto Adam\r\n",
            "           to see what he would call them: and whatsoever Adam called\r\n",
            "           every living creature, that was the name thereof.</p>\r\n",
            "\r\n",
            "<p id=\"id00064\">01:002:020 And Adam gave names to all cattle, and to the fowl of the air,<br>\r\n",
            "\r\n",
            "           and to every beast of the field; but for Adam there was not<br>\r\n",
            "\r\n",
            "           found an help meet for him.<br>\r\n",
            "</p>\r\n",
            "\r\n",
            "<p id=\"id00065\">01:002:021 And the LORD God caused a deep sleep to fall upon Adam, and he<br>\r\n",
            "\r\n",
            "           slept: and he took one of his ribs, and closed up the flesh<br>\r\n",
            "\r\n",
            "           instead thereof;<br>\r\n",
            "</p>\r\n",
            "\r\n",
            "<p id=\"id00066\" style=\"margin-left: 0%; margin-right: 0%\">01:002:022 And the rib, which the LORD God had taken from man, made he a\r\n",
            "           woman, and brought her unto the man.</p>\r\n",
            "\r\n",
            "<p id=\"id00067\" style=\"margin-left: 0%; margin-right: 0%\">01:002:023 And Adam said, This is now bone of my bones, and flesh of my\r\n",
            "           flesh: she shall be called Woman, because she was taken out of\r\n",
            "           Man.</p>\r\n",
            "\r\n",
            "<p id=\"id00068\">01:002:024 Therefore shall a man leave his father and his mother, and<br>\r\n",
            "\r\n",
            "           shall cleave unto his wife: and they shall be one flesh.<br>\r\n",
            "</p>\r\n",
            "\r\n",
            "<p id=\"id00069\">01:002:025 And they were both naked, the man and his wife, and were not<br>\r\n",
            "\r\n",
            "           ashamed.<br>\r\n",
            "</p>\r\n",
            "\r\n",
            "<p id=\"id00070\" style=\"margin-left: 0%; margin-right: 0%\">01:003:001 Now the serpent was more subtil than any beast of the field\r\n",
            "           which the LORD God had made. And he said unto the woman, Yea,\r\n",
            "           hath God said, Ye shall not eat of every tree of the garden?</p>\r\n",
            "\r\n",
            "<p id=\"id00071\" style=\"margin-left: 0%; margin-right: 0%\">01:003:002 And the woman said unto the serpent, We may eat of the fruit\r\n",
            "           of the trees of the garden:</p>\r\n",
            "\r\n",
            "<p id=\"id00072\" style=\"margin-left: 0%; margin-right: 0%\">01:003:003 But of the fruit of the tree which is in the midst of the\r\n",
            "           garden, God hath said, Ye shall not eat of it, neither shall\r\n",
            "           ye touch it, lest ye die.</p>\r\n",
            "\r\n",
            "<p id=\"id00073\">01:003:004 And the serpent said unto the woman, Ye shall not surely die:</p>\r\n",
            "\r\n",
            "<p id=\"id00074\" style=\"margin-left: 0%; margin-right: 0%\">01:003:005 For God doth know that in the day ye eat thereof, then your\r\n",
            "           eyes shall be opened, and ye shall be as gods, knowing good\r\n",
            "           and evil.</p>\r\n",
            "\r\n",
            "<p id=\"id00075\" style=\"margin-left: 0%; margin-right: 0%\">01:003:006 And when the woman saw that the tree was good for food, and\r\n",
            "           that it was pleasant to the eyes, and a tree to be desired to\r\n",
            "           make one wise, she took of the fruit thereof, and did eat, and\r\n",
            "           gave also unto her husband with her; and he did eat.</p>\r\n",
            "\r\n",
            "<p id=\"id00076\" style=\"margin-left: 0%; margin-right: 0%\">01:003:007 And the eyes of them both were opened, and they knew that they\r\n",
            "           were naked; and they sewed fig leaves together, and made\r\n",
            "           themselves aprons.</p>\r\n",
            "\r\n",
            "<p id=\"id00077\" style=\"margin-left: 0%; margin-right: 0%\">01:003:008 And they heard the voice of the LORD God walking in the garden\r\n",
            "           in the cool of the day: and Adam and his wife hid themselves\r\n",
            "           from the presence of the LORD God amongst the trees of the\r\n",
            "           garden.</p>\r\n",
            "\r\n",
            "<p id=\"id00078\">01:003:009 And the LORD God called unto Adam, and said unto\n"
          ]
        }
      ]
    },
    {
      "cell_type": "code",
      "source": [
        "import re\n",
        "from bs4 import BeautifulSoup\n",
        "\n",
        "def strip_html_tags(text):\n",
        "  soup = BeautifulSoup(text, \"html.parser\")\n",
        "  [s.extract() for s in soup(['iframe', 'script'])]\n",
        "  stripped_text = soup.get_text()\n",
        "  stripped_text = re.sub(r'[\\r|\\n|\\r\\n]+', '\\n', stripped_text)\n",
        "  return stripped_text\n",
        "\n",
        "clean_content = strip_html_tags(content)\n",
        "print(clean_content[10000:20000])"
      ],
      "metadata": {
        "colab": {
          "base_uri": "https://localhost:8080/"
        },
        "id": "DjVHWjuwQWDM",
        "outputId": "52d63b3f-14fd-49cb-a195-005862e0a86a"
      },
      "execution_count": null,
      "outputs": [
        {
          "output_type": "stream",
          "name": "stdout",
          "text": [
            " it he had rested from all his work which God created\n",
            "           and made.\n",
            "01:002:004 These are the generations of the heavens and of the earth when\n",
            "           they were created, in the day that the LORD God made the earth\n",
            "           and the heavens,\n",
            "01:002:005 And every plant of the field before it was in the earth, and\n",
            "           every herb of the field before it grew: for the LORD God had\n",
            "           not caused it to rain upon the earth, and there was not a man\n",
            "           to till the ground.\n",
            "01:002:006 But there went up a mist from the earth, and watered the whole\n",
            "           face of the ground.\n",
            "01:002:007 And the LORD God formed man of the dust of the ground, and\n",
            "           breathed into his nostrils the breath of life; and man became\n",
            "           a living soul.\n",
            "01:002:008 And the LORD God planted a garden eastward in Eden; and there\n",
            "           he put the man whom he had formed.\n",
            "01:002:009 And out of the ground made the LORD God to grow every tree\n",
            "           that is pleasant to the sight, and good for food; the tree of\n",
            "           life also in the midst of the garden, and the tree of\n",
            "           knowledge of good and evil.\n",
            "01:002:010 And a river went out of Eden to water the garden; and from\n",
            "           thence it was parted, and became into four heads.\n",
            "01:002:011 The name of the first is Pison: that is it which compasseth\n",
            "           the whole land of Havilah, where there is gold;\n",
            "01:002:012 And the gold of that land is good: there is bdellium and the\n",
            "           onyx stone.\n",
            "01:002:013 And the name of the second river is Gihon: the same is it that\n",
            "           compasseth the whole land of Ethiopia.\n",
            "01:002:014 And the name of the third river is Hiddekel: that is it which\n",
            "           goeth toward the east of Assyria. And the fourth river is\n",
            "           Euphrates.\n",
            "01:002:015 And the LORD God took the man, and put him into the garden of\n",
            "           Eden to dress it and to keep it.\n",
            "01:002:016 And the LORD God commanded the man, saying, Of every tree of\n",
            "           the garden thou mayest freely eat:\n",
            "01:002:017 But of the tree of the knowledge of good and evil, thou shalt\n",
            "           not eat of it: for in the day that thou eatest thereof thou\n",
            "           shalt surely die.\n",
            "01:002:018 And the LORD God said, It is not good that the man should be\n",
            "           alone; I will make him an help meet for him.\n",
            "01:002:019 And out of the ground the LORD God formed every beast of the\n",
            "           field, and every fowl of the air; and brought them unto Adam\n",
            "           to see what he would call them: and whatsoever Adam called\n",
            "           every living creature, that was the name thereof.\n",
            "01:002:020 And Adam gave names to all cattle, and to the fowl of the air,\n",
            "           and to every beast of the field; but for Adam there was not\n",
            "           found an help meet for him.\n",
            "01:002:021 And the LORD God caused a deep sleep to fall upon Adam, and he\n",
            "           slept: and he took one of his ribs, and closed up the flesh\n",
            "           instead thereof;\n",
            "01:002:022 And the rib, which the LORD God had taken from man, made he a\n",
            "           woman, and brought her unto the man.\n",
            "01:002:023 And Adam said, This is now bone of my bones, and flesh of my\n",
            "           flesh: she shall be called Woman, because she was taken out of\n",
            "           Man.\n",
            "01:002:024 Therefore shall a man leave his father and his mother, and\n",
            "           shall cleave unto his wife: and they shall be one flesh.\n",
            "01:002:025 And they were both naked, the man and his wife, and were not\n",
            "           ashamed.\n",
            "01:003:001 Now the serpent was more subtil than any beast of the field\n",
            "           which the LORD God had made. And he said unto the woman, Yea,\n",
            "           hath God said, Ye shall not eat of every tree of the garden?\n",
            "01:003:002 And the woman said unto the serpent, We may eat of the fruit\n",
            "           of the trees of the garden:\n",
            "01:003:003 But of the fruit of the tree which is in the midst of the\n",
            "           garden, God hath said, Ye shall not eat of it, neither shall\n",
            "           ye touch it, lest ye die.\n",
            "01:003:004 And the serpent said unto the woman, Ye shall not surely die:\n",
            "01:003:005 For God doth know that in the day ye eat thereof, then your\n",
            "           eyes shall be opened, and ye shall be as gods, knowing good\n",
            "           and evil.\n",
            "01:003:006 And when the woman saw that the tree was good for food, and\n",
            "           that it was pleasant to the eyes, and a tree to be desired to\n",
            "           make one wise, she took of the fruit thereof, and did eat, and\n",
            "           gave also unto her husband with her; and he did eat.\n",
            "01:003:007 And the eyes of them both were opened, and they knew that they\n",
            "           were naked; and they sewed fig leaves together, and made\n",
            "           themselves aprons.\n",
            "01:003:008 And they heard the voice of the LORD God walking in the garden\n",
            "           in the cool of the day: and Adam and his wife hid themselves\n",
            "           from the presence of the LORD God amongst the trees of the\n",
            "           garden.\n",
            "01:003:009 And the LORD God called unto Adam, and said unto him, Where\n",
            "           art thou?\n",
            "01:003:010 And he said, I heard thy voice in the garden, and I was\n",
            "           afraid, because I was naked; and I hid myself.\n",
            "01:003:011 And he said, Who told thee that thou wast naked? Hast thou\n",
            "           eaten of the tree, whereof I commanded thee that thou\n",
            "           shouldest not eat?\n",
            "01:003:012 And the man said, The woman whom thou gavest to be with me,\n",
            "           she gave me of the tree, and I did eat.\n",
            "01:003:013 And the LORD God said unto the woman, What is this that thou\n",
            "           hast done? And the woman said, The serpent beguiled me, and I\n",
            "           did eat.\n",
            "01:003:014 And the LORD God said unto the serpent, Because thou hast done\n",
            "           this, thou art cursed above all cattle, and above every beast\n",
            "           of the field; upon thy belly shalt thou go, and dust shalt\n",
            "           thou eat all the days of thy life:\n",
            "01:003:015 And I will put enmity between thee and the woman, and between\n",
            "           thy seed and her seed; it shall bruise thy head, and thou\n",
            "           shalt bruise his heel.\n",
            "01:003:016 Unto the woman he said, I will greatly multiply thy sorrow and\n",
            "           thy conception; in sorrow thou shalt bring forth children; and\n",
            "           thy desire shall be to thy husband, and he shall rule over\n",
            "           thee.\n",
            "01:003:017 And unto Adam he said, Because thou hast hearkened unto the\n",
            "           voice of thy wife, and hast eaten of the tree, of which I\n",
            "           commanded thee, saying, Thou shalt not eat of it: cursed is\n",
            "           the ground for thy sake; in sorrow shalt thou eat of it all\n",
            "           the days of thy life;\n",
            "01:003:018 Thorns also and thistles shall it bring forth to thee; and\n",
            "           thou shalt eat the herb of the field;\n",
            "01:003:019 In the sweat of thy face shalt thou eat bread, till thou\n",
            "           return unto the ground; for out of it wast thou taken: for\n",
            "           dust thou art, and unto dust shalt thou return.\n",
            "01:003:020 And Adam called his wife's name Eve; because she was the\n",
            "           mother of all living.\n",
            "01:003:021 Unto Adam also and to his wife did the LORD God make coats of\n",
            "           skins, and clothed them.\n",
            "01:003:022 And the LORD God said, Behold, the man is become as one of us,\n",
            "           to know good and evil: and now, lest he put forth his hand,\n",
            "           and take also of the tree of life, and eat, and live for ever:\n",
            "01:003:023 Therefore the LORD God sent him forth from the garden of Eden,\n",
            "           to till the ground from whence he was taken.\n",
            "01:003:024 So he drove out the man; and he placed at the east of the\n",
            "           garden of Eden Cherubims, and a flaming sword which turned\n",
            "           every way, to keep the way of the tree of life.\n",
            "01:004:001 And Adam knew Eve his wife; and she conceived, and bare Cain,\n",
            "           and said, I have gotten a man from the LORD.\n",
            "01:004:002 And she again bare his brother Abel. And Abel was a keeper of\n",
            "           sheep, but Cain was a tiller of the ground.\n",
            "01:004:003 And in process of time it came to pass, that Cain brought of\n",
            "           the fruit of the ground an offering unto the LORD.\n",
            "01:004:004 And Abel, he also brought of the firstlings of his flock and\n",
            "           of the fat thereof. And the LORD had respect unto Abel and to\n",
            "           his offering:\n",
            "01:004:005 But unto Cain and to his offering he had not respect. And Cain\n",
            "           was very wroth, and his countenance fell.\n",
            "01:004:006 And the LORD said unto Cain, Why art thou wroth? and why is\n",
            "           thy countenance fallen?\n",
            "01:004:007 If thou doest well, shalt thou not be accepted? and if thou\n",
            "           doest not well, sin lieth at the door. And unto thee shall be\n",
            "           his desire, and thou shalt rule over him.\n",
            "01:004:008 And Cain talked with Abel his brother: and it came to pass,\n",
            "           when they were in the field, that Cain rose up against Abel\n",
            "           his brother, and slew him.\n",
            "01:004:009 And the LORD said unto Cain, Where is Abel thy brother? And he\n",
            "           said, I know not: Am I my brother's keeper?\n",
            "01:004:010 And he said, What hast thou done? the voice of thy brother's\n",
            "           blood crieth unto me from the ground.\n",
            "01:004:011 And now art thou cursed from the earth, which hath opened her\n",
            "           mouth to receive thy brother's blood from thy hand;\n",
            "01:004:012 When thou tillest the ground, it shall not henceforth yield\n",
            "           unto thee her strength; a fugitive and a vagabond shalt thou\n",
            "           be in the earth.\n",
            "01:004:013 And Cain said unto the LORD, My punishment is greater than I\n",
            "           can bear.\n",
            "01:004:014 Behold, thou hast driven me out this day from the face of the\n",
            "           earth; and from thy face shall I be hid; and I shall be a\n",
            "           fugitive and a vagabond in the earth; and it shall come to\n",
            "           pass, that every one that findeth me shall slay me.\n",
            "01:004:015 And the LORD said unto him, Therefore whosoever slayeth Cain,\n",
            "           vengeance shall be taken on him sevenfold. And the LORD set a\n",
            "           mark upon Cain, lest any finding him should kill him.\n",
            "01:004:016 And Cain went out from the presence of the LORD, and dwel\n"
          ]
        }
      ]
    },
    {
      "cell_type": "markdown",
      "source": [
        "#### Removing Accented Character:\n",
        "NFKD: (countable and uncountable, plural NFKDs) (Unicode) Initialism of Normalization Form: Compatibility (K) Decomposition."
      ],
      "metadata": {
        "id": "KWILRFupVCO_"
      }
    },
    {
      "cell_type": "code",
      "source": [
        "import unicodedata\n",
        "\n",
        "def remove_accented_chars(text):\n",
        "  text = unicodedata.normalize('NFKD', text).encode('ascii', 'ignore').decode('utf-8', 'ignore')\n",
        "  return text"
      ],
      "metadata": {
        "id": "WyJmEM-LSjcs"
      },
      "execution_count": null,
      "outputs": []
    },
    {
      "cell_type": "code",
      "source": [
        "s = 'Sómě Áccěntěd těxt'\n",
        "s"
      ],
      "metadata": {
        "colab": {
          "base_uri": "https://localhost:8080/",
          "height": 35
        },
        "id": "D2iyejZ9Vo6_",
        "outputId": "dca64791-f030-4f7c-d8c3-f42478d6413e"
      },
      "execution_count": null,
      "outputs": [
        {
          "output_type": "execute_result",
          "data": {
            "text/plain": [
              "'Sómě Áccěntěd těxt'"
            ],
            "application/vnd.google.colaboratory.intrinsic+json": {
              "type": "string"
            }
          },
          "metadata": {},
          "execution_count": 72
        }
      ]
    },
    {
      "cell_type": "code",
      "source": [
        "remove_accented_chars(s)"
      ],
      "metadata": {
        "colab": {
          "base_uri": "https://localhost:8080/",
          "height": 35
        },
        "id": "GxAX1MyTWMQX",
        "outputId": "084dd009-816e-4451-f47e-673ddc3b763b"
      },
      "execution_count": null,
      "outputs": [
        {
          "output_type": "execute_result",
          "data": {
            "text/plain": [
              "'Some Accented text'"
            ],
            "application/vnd.google.colaboratory.intrinsic+json": {
              "type": "string"
            }
          },
          "metadata": {},
          "execution_count": 73
        }
      ]
    },
    {
      "cell_type": "markdown",
      "source": [
        "### Removing Special Characters, Numbers and Symbols:\n"
      ],
      "metadata": {
        "id": "-kjphK5gWW1v"
      }
    },
    {
      "cell_type": "code",
      "source": [
        "import re\n",
        "\n",
        "def remove_special_characters(text, remove_digits=False):\n",
        "  pattern = r'[^a-zA-Z0-9\\s]' if not remove_digits else r'[^a-zA-Z\\s]'\n",
        "  text = re.sub(pattern, '', text)\n",
        "  return text"
      ],
      "metadata": {
        "id": "ZvT3uhNaWQ22"
      },
      "execution_count": null,
      "outputs": []
    },
    {
      "cell_type": "code",
      "source": [
        "s = \"Well this was fun! See you at 7:30, What do you think!!? #$@@9318@ 🙂🙂🙂\"\n",
        "s"
      ],
      "metadata": {
        "colab": {
          "base_uri": "https://localhost:8080/",
          "height": 35
        },
        "id": "yGgzTK8Fxf5F",
        "outputId": "47b1363a-33ee-4373-d845-607d09b368ca"
      },
      "execution_count": null,
      "outputs": [
        {
          "output_type": "execute_result",
          "data": {
            "text/plain": [
              "'Well this was fun! See you at 7:30, What do you think!!? #$@@9318@ 🙂🙂🙂'"
            ],
            "application/vnd.google.colaboratory.intrinsic+json": {
              "type": "string"
            }
          },
          "metadata": {},
          "execution_count": 75
        }
      ]
    },
    {
      "cell_type": "code",
      "source": [
        "remove_special_characters(s, remove_digits=True)"
      ],
      "metadata": {
        "colab": {
          "base_uri": "https://localhost:8080/",
          "height": 35
        },
        "id": "sMS4HR6CxvsA",
        "outputId": "64ae17c3-ad66-4f60-b784-b272a203f624"
      },
      "execution_count": null,
      "outputs": [
        {
          "output_type": "execute_result",
          "data": {
            "text/plain": [
              "'Well this was fun See you at  What do you think  '"
            ],
            "application/vnd.google.colaboratory.intrinsic+json": {
              "type": "string"
            }
          },
          "metadata": {},
          "execution_count": 76
        }
      ]
    },
    {
      "cell_type": "code",
      "source": [
        "remove_special_characters(s)"
      ],
      "metadata": {
        "colab": {
          "base_uri": "https://localhost:8080/",
          "height": 35
        },
        "id": "ms8j3ySOzF40",
        "outputId": "147ee805-292c-49bb-bd6d-0c395f44881d"
      },
      "execution_count": null,
      "outputs": [
        {
          "output_type": "execute_result",
          "data": {
            "text/plain": [
              "'Well this was fun See you at 730 What do you think 9318 '"
            ],
            "application/vnd.google.colaboratory.intrinsic+json": {
              "type": "string"
            }
          },
          "metadata": {},
          "execution_count": 77
        }
      ]
    },
    {
      "cell_type": "markdown",
      "source": [
        "#### Expanding Contractions: "
      ],
      "metadata": {
        "id": "Mqvhx4pL0Ji9"
      }
    },
    {
      "cell_type": "code",
      "source": [
        "!pip install contractions\n",
        "!pip install textsearch"
      ],
      "metadata": {
        "colab": {
          "base_uri": "https://localhost:8080/"
        },
        "id": "cTEBMAk4zUn4",
        "outputId": "f5059198-8200-47a1-e154-b540c01ac4bc"
      },
      "execution_count": null,
      "outputs": [
        {
          "output_type": "stream",
          "name": "stdout",
          "text": [
            "Looking in indexes: https://pypi.org/simple, https://us-python.pkg.dev/colab-wheels/public/simple/\n",
            "Requirement already satisfied: contractions in /usr/local/lib/python3.7/dist-packages (0.1.72)\n",
            "Requirement already satisfied: textsearch>=0.0.21 in /usr/local/lib/python3.7/dist-packages (from contractions) (0.0.21)\n",
            "Requirement already satisfied: pyahocorasick in /usr/local/lib/python3.7/dist-packages (from textsearch>=0.0.21->contractions) (1.4.4)\n",
            "Requirement already satisfied: anyascii in /usr/local/lib/python3.7/dist-packages (from textsearch>=0.0.21->contractions) (0.3.1)\n",
            "Looking in indexes: https://pypi.org/simple, https://us-python.pkg.dev/colab-wheels/public/simple/\n",
            "Requirement already satisfied: textsearch in /usr/local/lib/python3.7/dist-packages (0.0.21)\n",
            "Requirement already satisfied: pyahocorasick in /usr/local/lib/python3.7/dist-packages (from textsearch) (1.4.4)\n",
            "Requirement already satisfied: anyascii in /usr/local/lib/python3.7/dist-packages (from textsearch) (0.3.1)\n"
          ]
        }
      ]
    },
    {
      "cell_type": "code",
      "source": [
        "s = \"Y'all can't expand contractions I'd think! You wouldn't be able to. How'd you do it?\"\n",
        "s"
      ],
      "metadata": {
        "colab": {
          "base_uri": "https://localhost:8080/",
          "height": 35
        },
        "id": "czGHWk7S0deW",
        "outputId": "764adf41-ec8e-4375-cc4b-ca7a2ee3dd88"
      },
      "execution_count": null,
      "outputs": [
        {
          "output_type": "execute_result",
          "data": {
            "text/plain": [
              "\"Y'all can't expand contractions I'd think! You wouldn't be able to. How'd you do it?\""
            ],
            "application/vnd.google.colaboratory.intrinsic+json": {
              "type": "string"
            }
          },
          "metadata": {},
          "execution_count": 79
        }
      ]
    },
    {
      "cell_type": "code",
      "source": [
        "import contractions \n",
        "\n",
        "list(contractions.contractions_dict.items())[:10]"
      ],
      "metadata": {
        "colab": {
          "base_uri": "https://localhost:8080/"
        },
        "id": "pwIRFICO6BR0",
        "outputId": "8c06fa31-ba01-401b-c47d-d5595df32f43"
      },
      "execution_count": null,
      "outputs": [
        {
          "output_type": "execute_result",
          "data": {
            "text/plain": [
              "[(\"I'm\", 'I am'),\n",
              " (\"I'm'a\", 'I am about to'),\n",
              " (\"I'm'o\", 'I am going to'),\n",
              " (\"I've\", 'I have'),\n",
              " (\"I'll\", 'I will'),\n",
              " (\"I'll've\", 'I will have'),\n",
              " (\"I'd\", 'I would'),\n",
              " (\"I'd've\", 'I would have'),\n",
              " ('Whatcha', 'What are you'),\n",
              " (\"amn't\", 'am not')]"
            ]
          },
          "metadata": {},
          "execution_count": 80
        }
      ]
    },
    {
      "cell_type": "code",
      "source": [
        "contractions.fix(s)"
      ],
      "metadata": {
        "colab": {
          "base_uri": "https://localhost:8080/",
          "height": 35
        },
        "id": "gjCE2EJN6LR6",
        "outputId": "bfc9e5c9-e7b4-49bd-8153-7f2ab5040d7d"
      },
      "execution_count": null,
      "outputs": [
        {
          "output_type": "execute_result",
          "data": {
            "text/plain": [
              "'You all cannot expand contractions I would think! You would not be able to. How did you do it?'"
            ],
            "application/vnd.google.colaboratory.intrinsic+json": {
              "type": "string"
            }
          },
          "metadata": {},
          "execution_count": 81
        }
      ]
    },
    {
      "cell_type": "markdown",
      "source": [
        "#### Stemming:"
      ],
      "metadata": {
        "id": "rhw9fV2d6gvX"
      }
    },
    {
      "cell_type": "markdown",
      "source": [
        "Convert the words into root stem."
      ],
      "metadata": {
        "id": "5psnwvTL7mxR"
      }
    },
    {
      "cell_type": "code",
      "source": [
        "# Porter Stemmer\n",
        "from nltk.stem import PorterStemmer\n",
        "ps = PorterStemmer()\n",
        "\n",
        "ps.stem('jumping'), ps.stem('jumps'), ps.stem('jumped')\n"
      ],
      "metadata": {
        "colab": {
          "base_uri": "https://localhost:8080/"
        },
        "id": "rISqe1h76ZNq",
        "outputId": "68a89f1d-360f-4345-c68c-36c4c5e739de"
      },
      "execution_count": null,
      "outputs": [
        {
          "output_type": "execute_result",
          "data": {
            "text/plain": [
              "('jump', 'jump', 'jump')"
            ]
          },
          "metadata": {},
          "execution_count": 82
        }
      ]
    },
    {
      "cell_type": "code",
      "source": [
        "ps.stem('lying')"
      ],
      "metadata": {
        "colab": {
          "base_uri": "https://localhost:8080/",
          "height": 35
        },
        "id": "GrekpoQZ7R2T",
        "outputId": "fedb76fa-cd1b-4784-eeaa-0c1e2ff11f4f"
      },
      "execution_count": null,
      "outputs": [
        {
          "output_type": "execute_result",
          "data": {
            "text/plain": [
              "'lie'"
            ],
            "application/vnd.google.colaboratory.intrinsic+json": {
              "type": "string"
            }
          },
          "metadata": {},
          "execution_count": 83
        }
      ]
    },
    {
      "cell_type": "code",
      "source": [
        "ps.stem('strange')"
      ],
      "metadata": {
        "colab": {
          "base_uri": "https://localhost:8080/",
          "height": 35
        },
        "id": "-k2Xd96n7VQt",
        "outputId": "2c258a7c-9f63-4518-cefe-3d172738ca01"
      },
      "execution_count": null,
      "outputs": [
        {
          "output_type": "execute_result",
          "data": {
            "text/plain": [
              "'strang'"
            ],
            "application/vnd.google.colaboratory.intrinsic+json": {
              "type": "string"
            }
          },
          "metadata": {},
          "execution_count": 84
        }
      ]
    },
    {
      "cell_type": "markdown",
      "source": [
        "#### Lemmatization:"
      ],
      "metadata": {
        "id": "_30npS087ys1"
      }
    },
    {
      "cell_type": "code",
      "source": [
        "from nltk.stem import WordNetLemmatizer\n",
        "wnl = WordNetLemmatizer()"
      ],
      "metadata": {
        "id": "RuzORrqt7YuT"
      },
      "execution_count": null,
      "outputs": []
    },
    {
      "cell_type": "code",
      "source": [
        "help(wnl.lemmatize)"
      ],
      "metadata": {
        "colab": {
          "base_uri": "https://localhost:8080/"
        },
        "id": "z7WLWXbj7_gu",
        "outputId": "240053ec-88cc-45ca-e7b2-4135f677fb66"
      },
      "execution_count": null,
      "outputs": [
        {
          "output_type": "stream",
          "name": "stdout",
          "text": [
            "Help on method lemmatize in module nltk.stem.wordnet:\n",
            "\n",
            "lemmatize(word: str, pos: str = 'n') -> str method of nltk.stem.wordnet.WordNetLemmatizer instance\n",
            "    Lemmatize `word` using WordNet's built-in morphy function.\n",
            "    Returns the input word unchanged if it cannot be found in WordNet.\n",
            "    \n",
            "    :param word: The input word to lemmatize.\n",
            "    :type word: str\n",
            "    :param pos: The Part Of Speech tag. Valid options are `\"n\"` for nouns,\n",
            "        `\"v\"` for verbs, `\"a\"` for adjectives, `\"r\"` for adverbs and `\"s\"`\n",
            "        for satellite adjectives.\n",
            "    :param pos: str\n",
            "    :return: The lemma of `word`, for the given `pos`.\n",
            "\n"
          ]
        }
      ]
    },
    {
      "cell_type": "code",
      "source": [
        "# Lemmatize nowns\n",
        "print(wnl.lemmatize('cars', 'n'))\n",
        "print(wnl.lemmatize('boxes', 'n'))\n"
      ],
      "metadata": {
        "colab": {
          "base_uri": "https://localhost:8080/"
        },
        "id": "Sut6H6Mx8EHF",
        "outputId": "6d2ba5f0-61c2-41b1-8c43-94d2a6c7127f"
      },
      "execution_count": null,
      "outputs": [
        {
          "output_type": "stream",
          "name": "stdout",
          "text": [
            "car\n",
            "box\n"
          ]
        }
      ]
    },
    {
      "cell_type": "code",
      "source": [
        "# Lemmatize verbs\n",
        "print(wnl.lemmatize('running', 'v'))\n",
        "print(wnl.lemmatize('fighting', 'v'))"
      ],
      "metadata": {
        "colab": {
          "base_uri": "https://localhost:8080/"
        },
        "id": "4ISvDym89JrO",
        "outputId": "9e2d64ca-67fa-4985-b9b4-57e2aa17a1ee"
      },
      "execution_count": null,
      "outputs": [
        {
          "output_type": "stream",
          "name": "stdout",
          "text": [
            "run\n",
            "fight\n"
          ]
        }
      ]
    },
    {
      "cell_type": "code",
      "source": [
        "# Lemmatize adjective\n",
        "print(wnl.lemmatize('saddest', 'a'))\n",
        "print(wnl.lemmatize('fancier', 'a'))"
      ],
      "metadata": {
        "colab": {
          "base_uri": "https://localhost:8080/"
        },
        "id": "9iKBqNqu9-sf",
        "outputId": "edb8f64f-9141-4086-b2f9-02cdb728617a"
      },
      "execution_count": null,
      "outputs": [
        {
          "output_type": "stream",
          "name": "stdout",
          "text": [
            "sad\n",
            "fancy\n"
          ]
        }
      ]
    },
    {
      "cell_type": "code",
      "source": [
        "# ineffective lemmatization\n",
        "print(wnl.lemmatize('ate', 'n'))\n",
        "print(wnl.lemmatize('fancier', 'v'))\n",
        "print(wnl.lemmatize('fancier'))"
      ],
      "metadata": {
        "colab": {
          "base_uri": "https://localhost:8080/"
        },
        "id": "hnKXXUW9-cUN",
        "outputId": "93be2c91-d3f4-4b6b-eeb6-0b9bbbb011ce"
      },
      "execution_count": null,
      "outputs": [
        {
          "output_type": "stream",
          "name": "stdout",
          "text": [
            "ate\n",
            "fancier\n",
            "fancier\n"
          ]
        }
      ]
    },
    {
      "cell_type": "markdown",
      "source": [
        "#### Tokenize"
      ],
      "metadata": {
        "id": "pDLP09zBASOg"
      }
    },
    {
      "cell_type": "code",
      "source": [
        "s = 'The brown foxes are quick and they are jumping over the sleeping lazy dogs!'"
      ],
      "metadata": {
        "id": "cdtnE7PxAPiO"
      },
      "execution_count": null,
      "outputs": []
    },
    {
      "cell_type": "code",
      "source": [
        "tokens = nltk.word_tokenize(s)\n",
        "print(tokens)"
      ],
      "metadata": {
        "colab": {
          "base_uri": "https://localhost:8080/"
        },
        "id": "YwQELQBLAmSG",
        "outputId": "fa7c1127-ce74-4d44-d362-388168dd68f3"
      },
      "execution_count": null,
      "outputs": [
        {
          "output_type": "stream",
          "name": "stdout",
          "text": [
            "['The', 'brown', 'foxes', 'are', 'quick', 'and', 'they', 'are', 'jumping', 'over', 'the', 'sleeping', 'lazy', 'dogs', '!']\n"
          ]
        }
      ]
    },
    {
      "cell_type": "code",
      "source": [
        "lemmatized_text = ' '.join(wnl.lemmatize(token) for token in tokens)\n",
        "lemmatized_text"
      ],
      "metadata": {
        "colab": {
          "base_uri": "https://localhost:8080/",
          "height": 35
        },
        "id": "cBEc8yskAu_G",
        "outputId": "440dd49d-d050-4c87-c356-188e9735b480"
      },
      "execution_count": null,
      "outputs": [
        {
          "output_type": "execute_result",
          "data": {
            "text/plain": [
              "'The brown fox are quick and they are jumping over the sleeping lazy dog !'"
            ],
            "application/vnd.google.colaboratory.intrinsic+json": {
              "type": "string"
            }
          },
          "metadata": {},
          "execution_count": 93
        }
      ]
    },
    {
      "cell_type": "markdown",
      "source": [
        "#### POS Tagging"
      ],
      "metadata": {
        "id": "anglZf3rCEZA"
      }
    },
    {
      "cell_type": "code",
      "source": [
        "tagged_token = nltk.pos_tag(tokens)\n",
        "print(tagged_token)"
      ],
      "metadata": {
        "colab": {
          "base_uri": "https://localhost:8080/"
        },
        "id": "nTfU3qaZCDW4",
        "outputId": "9dc1f632-f4a9-4239-c1ee-13626190f071"
      },
      "execution_count": null,
      "outputs": [
        {
          "output_type": "stream",
          "name": "stdout",
          "text": [
            "[('The', 'DT'), ('brown', 'JJ'), ('foxes', 'NNS'), ('are', 'VBP'), ('quick', 'JJ'), ('and', 'CC'), ('they', 'PRP'), ('are', 'VBP'), ('jumping', 'VBG'), ('over', 'IN'), ('the', 'DT'), ('sleeping', 'VBG'), ('lazy', 'JJ'), ('dogs', 'NNS'), ('!', '.')]\n"
          ]
        }
      ]
    },
    {
      "cell_type": "markdown",
      "source": [
        "##### Tag conversion to WordNet Tags"
      ],
      "metadata": {
        "id": "sN6ySZ1ZCdO_"
      }
    },
    {
      "cell_type": "code",
      "source": [
        "from nltk.corpus import wordnet \n",
        "def pos_tag_wordnet(tagged_token):\n",
        "  tag_map = { 'j': wordnet.ADJ, 'v': wordnet.VERB, 'n': wordnet.NOUN, 'r': wordnet.ADV}\n",
        "  new_tagged_tokens =[(word, tag_map.get(tag[0].lower(), wordnet.NOUN)) for word, tag in tagged_token]\n",
        "  return new_tagged_tokens\n"
      ],
      "metadata": {
        "id": "Rk-NHQRbCVUE"
      },
      "execution_count": null,
      "outputs": []
    },
    {
      "cell_type": "code",
      "source": [
        "wordnet_tokens =  pos_tag_wordnet(tagged_token)\n",
        "print(wordnet_tokens)"
      ],
      "metadata": {
        "colab": {
          "base_uri": "https://localhost:8080/"
        },
        "id": "x7v03O-W4toT",
        "outputId": "c9f57f31-a369-4120-b4af-51e4f87168a2"
      },
      "execution_count": null,
      "outputs": [
        {
          "output_type": "stream",
          "name": "stdout",
          "text": [
            "[('The', 'n'), ('brown', 'a'), ('foxes', 'n'), ('are', 'v'), ('quick', 'a'), ('and', 'n'), ('they', 'n'), ('are', 'v'), ('jumping', 'v'), ('over', 'n'), ('the', 'n'), ('sleeping', 'v'), ('lazy', 'a'), ('dogs', 'n'), ('!', 'n')]\n"
          ]
        }
      ]
    },
    {
      "cell_type": "markdown",
      "source": [
        "#### Effective Lemmatization"
      ],
      "metadata": {
        "id": "oHCjSFlA6BKG"
      }
    },
    {
      "cell_type": "code",
      "source": [
        "lemmatized_text = ' '.join(wnl.lemmatize(word, tag) for word, tag in wordnet_tokens)\n",
        "lemmatized_text"
      ],
      "metadata": {
        "colab": {
          "base_uri": "https://localhost:8080/",
          "height": 35
        },
        "id": "dqiJ_m0s5vu8",
        "outputId": "97596af1-29e9-4616-fb49-7f378a99a84d"
      },
      "execution_count": null,
      "outputs": [
        {
          "output_type": "execute_result",
          "data": {
            "text/plain": [
              "'The brown fox be quick and they be jump over the sleep lazy dog !'"
            ],
            "application/vnd.google.colaboratory.intrinsic+json": {
              "type": "string"
            }
          },
          "metadata": {},
          "execution_count": 97
        }
      ]
    },
    {
      "cell_type": "markdown",
      "source": [
        "Define the fucntion in such a way that you need to put all the above steps together so that it does the effective Lemmatization.\n",
        "\n",
        "1. Function name is *wordnet_lemmatize_text(...)*\n",
        "2. Input is a variable *text* which should be in a document(bunch of words)\n",
        "3. Call the earlier defined functions and utilize them\n",
        "4. Return lemmatized text as the output (as string)"
      ],
      "metadata": {
        "id": "m7cNKIB-67PZ"
      }
    },
    {
      "cell_type": "code",
      "source": [
        "wnl = WordNetLemmatizer()\n",
        "\n",
        "def wordnet_lemmatize_text(text):\n",
        "  tagged_token = nltk.pos_tag(nltk.word_tokenize(text))\n",
        "  wordnet_token = pos_tag_wordnet(tagged_token)\n",
        "  lemmatized_text = ' '.join(wnl.lemmatize(word, tag) for word, tag in wordnet_tokens)\n",
        "  return lemmatized_text"
      ],
      "metadata": {
        "id": "G2VBllV-6vT3"
      },
      "execution_count": null,
      "outputs": []
    },
    {
      "cell_type": "code",
      "source": [
        "wordnet_lemmatize_text(s)"
      ],
      "metadata": {
        "colab": {
          "base_uri": "https://localhost:8080/",
          "height": 35
        },
        "id": "G3InnfLY9pd5",
        "outputId": "4e12440f-24db-4e20-89d6-e269b677e619"
      },
      "execution_count": null,
      "outputs": [
        {
          "output_type": "execute_result",
          "data": {
            "text/plain": [
              "'The brown fox be quick and they be jump over the sleep lazy dog !'"
            ],
            "application/vnd.google.colaboratory.intrinsic+json": {
              "type": "string"
            }
          },
          "metadata": {},
          "execution_count": 99
        }
      ]
    },
    {
      "cell_type": "markdown",
      "source": [
        "#### Lemmatization with Spacy"
      ],
      "metadata": {
        "id": "vDqps6Rx93I7"
      }
    },
    {
      "cell_type": "code",
      "source": [
        "import spacy\n",
        "nlp = spacy.load('en_core_web_sm')\n",
        "\n",
        "def spacy_lemmatize_text(text):\n",
        "  text = nlp(text)\n",
        "  text = ' '.join([word.lemma_ if word.lemma_ !='-PRON' else word.text for word in text])\n",
        "  return text"
      ],
      "metadata": {
        "id": "uvdTIVSm9uXY"
      },
      "execution_count": null,
      "outputs": []
    },
    {
      "cell_type": "code",
      "source": [
        "spacy_lemmatize_text(s)"
      ],
      "metadata": {
        "colab": {
          "base_uri": "https://localhost:8080/",
          "height": 35
        },
        "id": "reHb3qan-za0",
        "outputId": "01ee8b02-8398-4b1e-d95d-01b9b1de57b1"
      },
      "execution_count": null,
      "outputs": [
        {
          "output_type": "execute_result",
          "data": {
            "text/plain": [
              "'the brown fox be quick and they be jump over the sleep lazy dog !'"
            ],
            "application/vnd.google.colaboratory.intrinsic+json": {
              "type": "string"
            }
          },
          "metadata": {},
          "execution_count": 105
        }
      ]
    },
    {
      "cell_type": "markdown",
      "source": [
        "#### Stopword Removal:"
      ],
      "metadata": {
        "id": "pQsxnMAODdc7"
      }
    },
    {
      "cell_type": "code",
      "source": [
        "def remove_stopwords(text, is_lower_case=False, stopwords=None):\n",
        "  if not stopwords:\n",
        "    stopwords = nltk.corpus.stopwords.words('english')\n",
        "  tokens = nltk.word_tokenize(text)\n",
        "  tokens = [token.strip() for token in tokens]\n",
        "\n",
        "  if is_lower_case:\n",
        "    filtered_tokens = [token for token in tokens if token not in stopwords]\n",
        "  else: \n",
        "    filtered_tokens = [token for token in tokens if token.lower() not in stopwords]\n",
        "  filtered_text = ' '.join(filtered_tokens)\n",
        "  return filtered_text"
      ],
      "metadata": {
        "id": "dwlM5eoBCCey"
      },
      "execution_count": null,
      "outputs": []
    },
    {
      "cell_type": "code",
      "source": [
        "stopwords = nltk.corpus.stopwords.words('english')\n",
        "print(stopwords[:10])"
      ],
      "metadata": {
        "colab": {
          "base_uri": "https://localhost:8080/"
        },
        "id": "H7BYJawBGjBJ",
        "outputId": "37fcf44c-7e17-44af-95dd-b370afb5b6de"
      },
      "execution_count": null,
      "outputs": [
        {
          "output_type": "stream",
          "name": "stdout",
          "text": [
            "['i', 'me', 'my', 'myself', 'we', 'our', 'ours', 'ourselves', 'you', \"you're\"]\n"
          ]
        }
      ]
    },
    {
      "cell_type": "code",
      "source": [
        "s"
      ],
      "metadata": {
        "colab": {
          "base_uri": "https://localhost:8080/",
          "height": 35
        },
        "id": "8iQxtdbNGsti",
        "outputId": "7548368c-21a6-484f-a0af-98762ae35f5f"
      },
      "execution_count": null,
      "outputs": [
        {
          "output_type": "execute_result",
          "data": {
            "text/plain": [
              "'The brown foxes are quick and they are jumping over the sleeping lazy dogs!'"
            ],
            "application/vnd.google.colaboratory.intrinsic+json": {
              "type": "string"
            }
          },
          "metadata": {},
          "execution_count": 114
        }
      ]
    },
    {
      "cell_type": "code",
      "source": [
        "remove_stopwords(s, is_lower_case=False)"
      ],
      "metadata": {
        "colab": {
          "base_uri": "https://localhost:8080/",
          "height": 35
        },
        "id": "Jnwz89zcG80q",
        "outputId": "df866dbf-ea31-4396-ed01-718b03b4aeed"
      },
      "execution_count": null,
      "outputs": [
        {
          "output_type": "execute_result",
          "data": {
            "text/plain": [
              "'brown foxes quick jumping sleeping lazy dogs !'"
            ],
            "application/vnd.google.colaboratory.intrinsic+json": {
              "type": "string"
            }
          },
          "metadata": {},
          "execution_count": 115
        }
      ]
    },
    {
      "cell_type": "markdown",
      "source": [
        "Remove the words 'the' and  add the'brown' to stop_words list and call the function with this new list.\n"
      ],
      "metadata": {
        "id": "8oKoY7QXH1mz"
      }
    },
    {
      "cell_type": "code",
      "source": [
        "stopwords.remove('the')\n",
        "stopwords.append('brown')"
      ],
      "metadata": {
        "id": "6cbHmkNsHAoR"
      },
      "execution_count": null,
      "outputs": []
    },
    {
      "cell_type": "code",
      "source": [
        "remove_stopwords(s, is_lower_case=False, stopwords=stopwords)"
      ],
      "metadata": {
        "colab": {
          "base_uri": "https://localhost:8080/",
          "height": 35
        },
        "id": "e08s101KIggq",
        "outputId": "0a71b26b-5e0c-4c61-b8c7-b5009f323754"
      },
      "execution_count": null,
      "outputs": [
        {
          "output_type": "execute_result",
          "data": {
            "text/plain": [
              "'The foxes quick jumping the sleeping lazy dogs !'"
            ],
            "application/vnd.google.colaboratory.intrinsic+json": {
              "type": "string"
            }
          },
          "metadata": {},
          "execution_count": 118
        }
      ]
    }
  ]
}