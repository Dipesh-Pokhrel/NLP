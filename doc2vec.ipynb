{
  "nbformat": 4,
  "nbformat_minor": 0,
  "metadata": {
    "colab": {
      "name": "doc2vec .ipynb",
      "provenance": []
    },
    "kernelspec": {
      "name": "python3",
      "display_name": "Python 3"
    },
    "language_info": {
      "name": "python"
    }
  },
  "cells": [
    {
      "cell_type": "markdown",
      "source": [
        "##### Train Our Model"
      ],
      "metadata": {
        "id": "yY_DKF1pOowd"
      }
    },
    {
      "cell_type": "code",
      "execution_count": 3,
      "metadata": {
        "id": "vfF5L178yx1h"
      },
      "outputs": [],
      "source": [
        "import gensim\n",
        "import numpy as np\n",
        "import pandas as pd\n",
        "from sklearn.model_selection import train_test_split\n",
        "pd.set_option('display.max_colwidth', 100)\n",
        "\n",
        "messages = pd.read_csv('spam.csv', encoding='latin-1')\n",
        "messages = messages.drop(labels=[\"Unnamed: 2\", \"Unnamed: 3\", \"Unnamed: 4\"], axis=1)\n",
        "messages.columns = ['label', 'text']\n",
        "\n",
        "messages['text_clean'] = messages['text'].apply(lambda x: gensim.utils.simple_preprocess(x))\n",
        "\n",
        "X_train, X_test, y_train, y_test = train_test_split(messages['text_clean'],\n",
        "                                                    messages['label'],\n",
        "                                                    test_size=0.2)\n"
      ]
    },
    {
      "cell_type": "markdown",
      "source": [
        "Create tagged document objects to prepare to train the model"
      ],
      "metadata": {
        "id": "hPQrhqhjPIEr"
      }
    },
    {
      "cell_type": "code",
      "source": [
        "tagged_docs = [gensim.models.doc2vec.TaggedDocument(v, [i]) for i, v in enumerate(X_train)]"
      ],
      "metadata": {
        "id": "N4DAcGAKO8dn"
      },
      "execution_count": 7,
      "outputs": []
    },
    {
      "cell_type": "markdown",
      "source": [
        "Look at what a tagged document look like"
      ],
      "metadata": {
        "id": "8FzYJO8zQQIx"
      }
    },
    {
      "cell_type": "code",
      "source": [
        "tagged_docs[0]"
      ],
      "metadata": {
        "colab": {
          "base_uri": "https://localhost:8080/"
        },
        "id": "Fo5kI4s_Poa7",
        "outputId": "59cfa6dd-4d42-48d5-9abf-6a202b3e6f23"
      },
      "execution_count": 8,
      "outputs": [
        {
          "output_type": "execute_result",
          "data": {
            "text/plain": [
              "TaggedDocument(words=['shall', 'send', 'that', 'exe', 'to', 'your', 'mail', 'id'], tags=[0])"
            ]
          },
          "metadata": {},
          "execution_count": 8
        }
      ]
    },
    {
      "cell_type": "markdown",
      "source": [
        "Train a basi doc2vec model"
      ],
      "metadata": {
        "id": "lpwVxrI2QvSE"
      }
    },
    {
      "cell_type": "code",
      "source": [
        "d2v_model = gensim.models.Doc2Vec(tagged_docs,\n",
        "                            vector_size=100,\n",
        "                            window=5,\n",
        "                            min_count=2)"
      ],
      "metadata": {
        "id": "2lyi1xFYQmAi"
      },
      "execution_count": 11,
      "outputs": []
    },
    {
      "cell_type": "code",
      "source": [
        "d2v_model.infer_vector(['i', 'am', 'learning', 'nlp'])"
      ],
      "metadata": {
        "colab": {
          "base_uri": "https://localhost:8080/"
        },
        "id": "Z1CtRATDXnfH",
        "outputId": "414f3a35-d4b3-4d00-c5ee-62b216e2ed0b"
      },
      "execution_count": 12,
      "outputs": [
        {
          "output_type": "execute_result",
          "data": {
            "text/plain": [
              "array([ 0.00716958,  0.00027503, -0.00260676, -0.00400441,  0.00180881,\n",
              "       -0.00657149,  0.00306373, -0.00191726, -0.00041694,  0.00259314,\n",
              "        0.00077765,  0.00051703,  0.01558096, -0.0003822 , -0.00184831,\n",
              "       -0.00262939, -0.00449907, -0.00070632,  0.0031354 , -0.0003083 ,\n",
              "       -0.00397278, -0.00801584,  0.00299628,  0.00597374, -0.00569987,\n",
              "       -0.00201413, -0.00558803,  0.00230666,  0.00254088, -0.00104074,\n",
              "        0.00310108,  0.00323467,  0.00287635,  0.00685418,  0.00202712,\n",
              "        0.00733043, -0.00119335, -0.00386045, -0.00321012, -0.0066831 ,\n",
              "       -0.00194252, -0.00084058,  0.00326964,  0.01052613, -0.00156975,\n",
              "        0.00132614, -0.00112078,  0.00865758, -0.00095231,  0.00175074,\n",
              "       -0.00172746, -0.008258  , -0.00051792,  0.00466289,  0.00263454,\n",
              "       -0.0034246 , -0.00522846, -0.00471878, -0.00855974, -0.00336784,\n",
              "        0.00545612,  0.00527416, -0.00261032,  0.00319114, -0.00574096,\n",
              "        0.00428627, -0.00632285,  0.00458814,  0.00895855, -0.0032775 ,\n",
              "       -0.00647436, -0.00265859,  0.00220822,  0.00088272,  0.01007703,\n",
              "       -0.00858355,  0.005012  ,  0.00154033, -0.00038262,  0.00647824,\n",
              "       -0.00010918, -0.00584965, -0.00110168,  0.00568525,  0.00692708,\n",
              "        0.00193807,  0.00511962,  0.00145001,  0.00820844,  0.00052867,\n",
              "       -0.00155252,  0.00282565,  0.00238226, -0.00288036, -0.00539495,\n",
              "        0.00417184,  0.00779778, -0.0042009 ,  0.00066716, -0.0094533 ],\n",
              "      dtype=float32)"
            ]
          },
          "metadata": {},
          "execution_count": 12
        }
      ]
    },
    {
      "cell_type": "code",
      "source": [
        "vector = [[d2v_model.infer_vector(words)] for words in X_test]"
      ],
      "metadata": {
        "id": "zVZUsw-yYbNn"
      },
      "execution_count": 13,
      "outputs": []
    },
    {
      "cell_type": "code",
      "source": [
        "vector[0]"
      ],
      "metadata": {
        "colab": {
          "base_uri": "https://localhost:8080/"
        },
        "id": "5-D1LuarZGOj",
        "outputId": "86f8b830-4b9a-4600-f2ea-893e9d4435c1"
      },
      "execution_count": 14,
      "outputs": [
        {
          "output_type": "execute_result",
          "data": {
            "text/plain": [
              "[array([ 7.3615662e-03,  4.7263579e-04,  1.4440301e-04, -5.6174663e-03,\n",
              "         1.6102948e-03, -2.7893861e-03, -1.5238228e-03, -2.6911905e-04,\n",
              "         6.8386021e-04,  2.8768952e-03, -4.5528868e-04, -3.0214808e-04,\n",
              "         1.8059995e-03, -2.2595346e-03, -3.9907512e-03,  5.1111056e-05,\n",
              "        -4.7806925e-03, -1.4999351e-03, -1.4187311e-03,  5.0559820e-04,\n",
              "         3.9020044e-04,  2.1625794e-05,  5.4028135e-04, -5.1952229e-04,\n",
              "        -8.4310919e-03,  2.5066196e-03, -4.6499725e-03, -5.1617906e-03,\n",
              "         2.5402696e-03, -3.3760569e-03,  1.5057880e-03, -4.2080422e-04,\n",
              "         2.8520559e-03,  6.0501909e-03, -3.1117396e-03,  3.2398889e-03,\n",
              "        -1.9732271e-03, -4.8452956e-03, -1.1368145e-03,  2.1492979e-03,\n",
              "        -6.5347989e-04, -8.7599270e-04,  3.7420907e-03,  3.3858130e-03,\n",
              "         1.7392814e-04,  1.0918990e-03,  3.5230049e-03, -1.9903148e-03,\n",
              "        -3.0583872e-03, -5.3280089e-03,  1.8078005e-03,  1.2463904e-03,\n",
              "         2.2062154e-03,  1.5298416e-03,  4.6547242e-03, -9.1160537e-04,\n",
              "        -2.3874990e-03, -2.5677809e-03, -2.5601364e-03, -3.2099341e-03,\n",
              "         2.3277665e-03,  2.2100753e-03,  2.9743742e-03,  6.2850007e-04,\n",
              "        -4.2297319e-04,  7.6549044e-03,  2.6215410e-03,  5.3042700e-03,\n",
              "        -1.7466900e-03, -3.1701934e-03, -7.2971503e-03,  3.7277350e-03,\n",
              "         1.8241039e-03, -3.2185749e-03,  4.6652858e-03,  1.7284933e-03,\n",
              "         1.5572953e-03, -4.6606339e-03,  7.3587440e-04,  2.2820653e-03,\n",
              "        -2.6689791e-03,  2.5439020e-03,  3.6749917e-03, -8.1758888e-04,\n",
              "        -2.7301116e-03,  5.2932263e-03,  1.3002981e-03, -3.4847509e-03,\n",
              "         3.1453969e-03, -4.6758162e-04, -3.9715348e-03,  2.5141526e-03,\n",
              "        -3.9914907e-03, -1.2187338e-03,  3.0395666e-03,  5.6140160e-04,\n",
              "        -1.8158215e-03,  1.6536547e-03, -2.7254338e-03, -1.4201225e-03],\n",
              "       dtype=float32)]"
            ]
          },
          "metadata": {},
          "execution_count": 14
        }
      ]
    }
  ]
}